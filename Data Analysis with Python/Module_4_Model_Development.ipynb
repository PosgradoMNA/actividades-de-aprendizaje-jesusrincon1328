{
  "nbformat": 4,
  "nbformat_minor": 0,
  "metadata": {
    "colab": {
      "provenance": [],
      "collapsed_sections": [],
      "authorship_tag": "ABX9TyPBgLFnESQjosopVnJG5k86",
      "include_colab_link": true
    },
    "kernelspec": {
      "name": "python3",
      "display_name": "Python 3"
    },
    "language_info": {
      "name": "python"
    }
  },
  "cells": [
    {
      "cell_type": "markdown",
      "metadata": {
        "id": "view-in-github",
        "colab_type": "text"
      },
      "source": [
        "<a href=\"https://colab.research.google.com/github/PosgradoMNA/actividades-de-aprendizaje-jesusrincon1328/blob/main/Data%20Analysis%20with%20Python/Module_4_Model_Development.ipynb\" target=\"_parent\"><img src=\"https://colab.research.google.com/assets/colab-badge.svg\" alt=\"Open In Colab\"/></a>"
      ]
    },
    {
      "cell_type": "markdown",
      "source": [
        "## **Data Analysis with Python**\n",
        "\n",
        "**Alumno:** Jesús Angel Rincón Ruiz\n",
        "\n",
        "**Matricula:** A01793960\n",
        "\n",
        "**Módulo 4 - Model Development**\n",
        "\n",
        "**Objetivos**\n",
        "\n",
        "Desarrollo de modelos predictivos.\n",
        "\n",
        "En esta seccion vamos a desarrollar diferentes modelos que van a predecir el precio de un carro utilizando las variables o features.\n",
        "\n",
        "En el análisis de datos, usualmente utilizamos \"Model Development\" para ayudarnos a predecir futuras observaciones a partir de los datos que tenemos."
      ],
      "metadata": {
        "id": "mafEfCMO1n5Q"
      }
    },
    {
      "cell_type": "code",
      "execution_count": 34,
      "metadata": {
        "id": "hcGz-ltLbS0C"
      },
      "outputs": [],
      "source": [
        "import pandas as pd\n",
        "import numpy as np\n",
        "import matplotlib.pyplot as plt"
      ]
    },
    {
      "cell_type": "code",
      "source": [
        "path = \"https://cf-courses-data.s3.us.cloud-object-storage.appdomain.cloud/IBMDeveloperSkillsNetwork-DA0101EN-SkillsNetwork/labs/Data%20files/automobileEDA.csv\""
      ],
      "metadata": {
        "id": "INeZ-PuebscO"
      },
      "execution_count": 3,
      "outputs": []
    },
    {
      "cell_type": "code",
      "source": [
        "df = pd.read_csv(path)\n",
        "df.head()"
      ],
      "metadata": {
        "colab": {
          "base_uri": "https://localhost:8080/",
          "height": 386
        },
        "id": "AMx67Zdyb44b",
        "outputId": "042b20e8-7028-4b7b-db3e-7ab5aeb86abc"
      },
      "execution_count": 4,
      "outputs": [
        {
          "output_type": "execute_result",
          "data": {
            "text/plain": [
              "   symboling  normalized-losses         make aspiration num-of-doors  \\\n",
              "0          3                122  alfa-romero        std          two   \n",
              "1          3                122  alfa-romero        std          two   \n",
              "2          1                122  alfa-romero        std          two   \n",
              "3          2                164         audi        std         four   \n",
              "4          2                164         audi        std         four   \n",
              "\n",
              "    body-style drive-wheels engine-location  wheel-base    length  ...  \\\n",
              "0  convertible          rwd           front        88.6  0.811148  ...   \n",
              "1  convertible          rwd           front        88.6  0.811148  ...   \n",
              "2    hatchback          rwd           front        94.5  0.822681  ...   \n",
              "3        sedan          fwd           front        99.8  0.848630  ...   \n",
              "4        sedan          4wd           front        99.4  0.848630  ...   \n",
              "\n",
              "   compression-ratio  horsepower  peak-rpm city-mpg highway-mpg    price  \\\n",
              "0                9.0       111.0    5000.0       21          27  13495.0   \n",
              "1                9.0       111.0    5000.0       21          27  16500.0   \n",
              "2                9.0       154.0    5000.0       19          26  16500.0   \n",
              "3               10.0       102.0    5500.0       24          30  13950.0   \n",
              "4                8.0       115.0    5500.0       18          22  17450.0   \n",
              "\n",
              "  city-L/100km  horsepower-binned  diesel  gas  \n",
              "0    11.190476             Medium       0    1  \n",
              "1    11.190476             Medium       0    1  \n",
              "2    12.368421             Medium       0    1  \n",
              "3     9.791667             Medium       0    1  \n",
              "4    13.055556             Medium       0    1  \n",
              "\n",
              "[5 rows x 29 columns]"
            ],
            "text/html": [
              "\n",
              "  <div id=\"df-5d42ee64-5e4f-4581-b21c-cd2e00499cb4\">\n",
              "    <div class=\"colab-df-container\">\n",
              "      <div>\n",
              "<style scoped>\n",
              "    .dataframe tbody tr th:only-of-type {\n",
              "        vertical-align: middle;\n",
              "    }\n",
              "\n",
              "    .dataframe tbody tr th {\n",
              "        vertical-align: top;\n",
              "    }\n",
              "\n",
              "    .dataframe thead th {\n",
              "        text-align: right;\n",
              "    }\n",
              "</style>\n",
              "<table border=\"1\" class=\"dataframe\">\n",
              "  <thead>\n",
              "    <tr style=\"text-align: right;\">\n",
              "      <th></th>\n",
              "      <th>symboling</th>\n",
              "      <th>normalized-losses</th>\n",
              "      <th>make</th>\n",
              "      <th>aspiration</th>\n",
              "      <th>num-of-doors</th>\n",
              "      <th>body-style</th>\n",
              "      <th>drive-wheels</th>\n",
              "      <th>engine-location</th>\n",
              "      <th>wheel-base</th>\n",
              "      <th>length</th>\n",
              "      <th>...</th>\n",
              "      <th>compression-ratio</th>\n",
              "      <th>horsepower</th>\n",
              "      <th>peak-rpm</th>\n",
              "      <th>city-mpg</th>\n",
              "      <th>highway-mpg</th>\n",
              "      <th>price</th>\n",
              "      <th>city-L/100km</th>\n",
              "      <th>horsepower-binned</th>\n",
              "      <th>diesel</th>\n",
              "      <th>gas</th>\n",
              "    </tr>\n",
              "  </thead>\n",
              "  <tbody>\n",
              "    <tr>\n",
              "      <th>0</th>\n",
              "      <td>3</td>\n",
              "      <td>122</td>\n",
              "      <td>alfa-romero</td>\n",
              "      <td>std</td>\n",
              "      <td>two</td>\n",
              "      <td>convertible</td>\n",
              "      <td>rwd</td>\n",
              "      <td>front</td>\n",
              "      <td>88.6</td>\n",
              "      <td>0.811148</td>\n",
              "      <td>...</td>\n",
              "      <td>9.0</td>\n",
              "      <td>111.0</td>\n",
              "      <td>5000.0</td>\n",
              "      <td>21</td>\n",
              "      <td>27</td>\n",
              "      <td>13495.0</td>\n",
              "      <td>11.190476</td>\n",
              "      <td>Medium</td>\n",
              "      <td>0</td>\n",
              "      <td>1</td>\n",
              "    </tr>\n",
              "    <tr>\n",
              "      <th>1</th>\n",
              "      <td>3</td>\n",
              "      <td>122</td>\n",
              "      <td>alfa-romero</td>\n",
              "      <td>std</td>\n",
              "      <td>two</td>\n",
              "      <td>convertible</td>\n",
              "      <td>rwd</td>\n",
              "      <td>front</td>\n",
              "      <td>88.6</td>\n",
              "      <td>0.811148</td>\n",
              "      <td>...</td>\n",
              "      <td>9.0</td>\n",
              "      <td>111.0</td>\n",
              "      <td>5000.0</td>\n",
              "      <td>21</td>\n",
              "      <td>27</td>\n",
              "      <td>16500.0</td>\n",
              "      <td>11.190476</td>\n",
              "      <td>Medium</td>\n",
              "      <td>0</td>\n",
              "      <td>1</td>\n",
              "    </tr>\n",
              "    <tr>\n",
              "      <th>2</th>\n",
              "      <td>1</td>\n",
              "      <td>122</td>\n",
              "      <td>alfa-romero</td>\n",
              "      <td>std</td>\n",
              "      <td>two</td>\n",
              "      <td>hatchback</td>\n",
              "      <td>rwd</td>\n",
              "      <td>front</td>\n",
              "      <td>94.5</td>\n",
              "      <td>0.822681</td>\n",
              "      <td>...</td>\n",
              "      <td>9.0</td>\n",
              "      <td>154.0</td>\n",
              "      <td>5000.0</td>\n",
              "      <td>19</td>\n",
              "      <td>26</td>\n",
              "      <td>16500.0</td>\n",
              "      <td>12.368421</td>\n",
              "      <td>Medium</td>\n",
              "      <td>0</td>\n",
              "      <td>1</td>\n",
              "    </tr>\n",
              "    <tr>\n",
              "      <th>3</th>\n",
              "      <td>2</td>\n",
              "      <td>164</td>\n",
              "      <td>audi</td>\n",
              "      <td>std</td>\n",
              "      <td>four</td>\n",
              "      <td>sedan</td>\n",
              "      <td>fwd</td>\n",
              "      <td>front</td>\n",
              "      <td>99.8</td>\n",
              "      <td>0.848630</td>\n",
              "      <td>...</td>\n",
              "      <td>10.0</td>\n",
              "      <td>102.0</td>\n",
              "      <td>5500.0</td>\n",
              "      <td>24</td>\n",
              "      <td>30</td>\n",
              "      <td>13950.0</td>\n",
              "      <td>9.791667</td>\n",
              "      <td>Medium</td>\n",
              "      <td>0</td>\n",
              "      <td>1</td>\n",
              "    </tr>\n",
              "    <tr>\n",
              "      <th>4</th>\n",
              "      <td>2</td>\n",
              "      <td>164</td>\n",
              "      <td>audi</td>\n",
              "      <td>std</td>\n",
              "      <td>four</td>\n",
              "      <td>sedan</td>\n",
              "      <td>4wd</td>\n",
              "      <td>front</td>\n",
              "      <td>99.4</td>\n",
              "      <td>0.848630</td>\n",
              "      <td>...</td>\n",
              "      <td>8.0</td>\n",
              "      <td>115.0</td>\n",
              "      <td>5500.0</td>\n",
              "      <td>18</td>\n",
              "      <td>22</td>\n",
              "      <td>17450.0</td>\n",
              "      <td>13.055556</td>\n",
              "      <td>Medium</td>\n",
              "      <td>0</td>\n",
              "      <td>1</td>\n",
              "    </tr>\n",
              "  </tbody>\n",
              "</table>\n",
              "<p>5 rows × 29 columns</p>\n",
              "</div>\n",
              "      <button class=\"colab-df-convert\" onclick=\"convertToInteractive('df-5d42ee64-5e4f-4581-b21c-cd2e00499cb4')\"\n",
              "              title=\"Convert this dataframe to an interactive table.\"\n",
              "              style=\"display:none;\">\n",
              "        \n",
              "  <svg xmlns=\"http://www.w3.org/2000/svg\" height=\"24px\"viewBox=\"0 0 24 24\"\n",
              "       width=\"24px\">\n",
              "    <path d=\"M0 0h24v24H0V0z\" fill=\"none\"/>\n",
              "    <path d=\"M18.56 5.44l.94 2.06.94-2.06 2.06-.94-2.06-.94-.94-2.06-.94 2.06-2.06.94zm-11 1L8.5 8.5l.94-2.06 2.06-.94-2.06-.94L8.5 2.5l-.94 2.06-2.06.94zm10 10l.94 2.06.94-2.06 2.06-.94-2.06-.94-.94-2.06-.94 2.06-2.06.94z\"/><path d=\"M17.41 7.96l-1.37-1.37c-.4-.4-.92-.59-1.43-.59-.52 0-1.04.2-1.43.59L10.3 9.45l-7.72 7.72c-.78.78-.78 2.05 0 2.83L4 21.41c.39.39.9.59 1.41.59.51 0 1.02-.2 1.41-.59l7.78-7.78 2.81-2.81c.8-.78.8-2.07 0-2.86zM5.41 20L4 18.59l7.72-7.72 1.47 1.35L5.41 20z\"/>\n",
              "  </svg>\n",
              "      </button>\n",
              "      \n",
              "  <style>\n",
              "    .colab-df-container {\n",
              "      display:flex;\n",
              "      flex-wrap:wrap;\n",
              "      gap: 12px;\n",
              "    }\n",
              "\n",
              "    .colab-df-convert {\n",
              "      background-color: #E8F0FE;\n",
              "      border: none;\n",
              "      border-radius: 50%;\n",
              "      cursor: pointer;\n",
              "      display: none;\n",
              "      fill: #1967D2;\n",
              "      height: 32px;\n",
              "      padding: 0 0 0 0;\n",
              "      width: 32px;\n",
              "    }\n",
              "\n",
              "    .colab-df-convert:hover {\n",
              "      background-color: #E2EBFA;\n",
              "      box-shadow: 0px 1px 2px rgba(60, 64, 67, 0.3), 0px 1px 3px 1px rgba(60, 64, 67, 0.15);\n",
              "      fill: #174EA6;\n",
              "    }\n",
              "\n",
              "    [theme=dark] .colab-df-convert {\n",
              "      background-color: #3B4455;\n",
              "      fill: #D2E3FC;\n",
              "    }\n",
              "\n",
              "    [theme=dark] .colab-df-convert:hover {\n",
              "      background-color: #434B5C;\n",
              "      box-shadow: 0px 1px 3px 1px rgba(0, 0, 0, 0.15);\n",
              "      filter: drop-shadow(0px 1px 2px rgba(0, 0, 0, 0.3));\n",
              "      fill: #FFFFFF;\n",
              "    }\n",
              "  </style>\n",
              "\n",
              "      <script>\n",
              "        const buttonEl =\n",
              "          document.querySelector('#df-5d42ee64-5e4f-4581-b21c-cd2e00499cb4 button.colab-df-convert');\n",
              "        buttonEl.style.display =\n",
              "          google.colab.kernel.accessAllowed ? 'block' : 'none';\n",
              "\n",
              "        async function convertToInteractive(key) {\n",
              "          const element = document.querySelector('#df-5d42ee64-5e4f-4581-b21c-cd2e00499cb4');\n",
              "          const dataTable =\n",
              "            await google.colab.kernel.invokeFunction('convertToInteractive',\n",
              "                                                     [key], {});\n",
              "          if (!dataTable) return;\n",
              "\n",
              "          const docLinkHtml = 'Like what you see? Visit the ' +\n",
              "            '<a target=\"_blank\" href=https://colab.research.google.com/notebooks/data_table.ipynb>data table notebook</a>'\n",
              "            + ' to learn more about interactive tables.';\n",
              "          element.innerHTML = '';\n",
              "          dataTable['output_type'] = 'display_data';\n",
              "          await google.colab.output.renderOutput(dataTable, element);\n",
              "          const docLink = document.createElement('div');\n",
              "          docLink.innerHTML = docLinkHtml;\n",
              "          element.appendChild(docLink);\n",
              "        }\n",
              "      </script>\n",
              "    </div>\n",
              "  </div>\n",
              "  "
            ]
          },
          "metadata": {},
          "execution_count": 4
        }
      ]
    },
    {
      "cell_type": "markdown",
      "source": [
        "<h2>1. Linear Regression and Multiple Linear Regression</h2>"
      ],
      "metadata": {
        "id": "YBJRGkwicoNX"
      }
    },
    {
      "cell_type": "markdown",
      "source": [
        "**Simple Linear Regression**\n",
        "\n",
        "Es un metodo que nos ayuda a entender la relación entre dos variables\n",
        "\n",
        "\n",
        "*   El predictor/variable independiente(X)\n",
        "*   La respuesta/variable dependiente(lo que queremos predecir)(Y)\n",
        "\n",
        "\n",
        "\n",
        "\n",
        "\n"
      ],
      "metadata": {
        "id": "Xie32A-HdPil"
      }
    },
    {
      "cell_type": "code",
      "source": [
        "from sklearn.linear_model import LinearRegression"
      ],
      "metadata": {
        "id": "zzyLaFKtdOIL"
      },
      "execution_count": 5,
      "outputs": []
    },
    {
      "cell_type": "code",
      "source": [
        "lm = LinearRegression()\n",
        "lm"
      ],
      "metadata": {
        "colab": {
          "base_uri": "https://localhost:8080/"
        },
        "id": "NqrAI_UrqlES",
        "outputId": "8d6836d1-1bfc-4827-fd0f-c672ee447303"
      },
      "execution_count": 6,
      "outputs": [
        {
          "output_type": "execute_result",
          "data": {
            "text/plain": [
              "LinearRegression()"
            ]
          },
          "metadata": {},
          "execution_count": 6
        }
      ]
    },
    {
      "cell_type": "code",
      "source": [
        "X = df[['highway-mpg']]\n",
        "Y = df['price']"
      ],
      "metadata": {
        "id": "4LEdr_qoqtZj"
      },
      "execution_count": 7,
      "outputs": []
    },
    {
      "cell_type": "code",
      "source": [
        "lm.fit(X,Y)"
      ],
      "metadata": {
        "colab": {
          "base_uri": "https://localhost:8080/"
        },
        "id": "3Kv1ezMAq9et",
        "outputId": "58a6625f-595a-4edf-ddf4-8a65bf678a15"
      },
      "execution_count": 8,
      "outputs": [
        {
          "output_type": "execute_result",
          "data": {
            "text/plain": [
              "LinearRegression()"
            ]
          },
          "metadata": {},
          "execution_count": 8
        }
      ]
    },
    {
      "cell_type": "code",
      "source": [
        "Yhat=lm.predict(X)\n",
        "Yhat[0:5]  "
      ],
      "metadata": {
        "colab": {
          "base_uri": "https://localhost:8080/"
        },
        "id": "Ac54vF0crAiW",
        "outputId": "3ba4f43b-6792-4fbf-e7f1-7b1d2fa96cc2"
      },
      "execution_count": 9,
      "outputs": [
        {
          "output_type": "execute_result",
          "data": {
            "text/plain": [
              "array([16236.50464347, 16236.50464347, 17058.23802179, 13771.3045085 ,\n",
              "       20345.17153508])"
            ]
          },
          "metadata": {},
          "execution_count": 9
        }
      ]
    },
    {
      "cell_type": "code",
      "source": [
        "lm.intercept_"
      ],
      "metadata": {
        "colab": {
          "base_uri": "https://localhost:8080/"
        },
        "id": "MsMgROlQrFDI",
        "outputId": "df7aa3e7-2b69-4207-8642-4a543b82c973"
      },
      "execution_count": 10,
      "outputs": [
        {
          "output_type": "execute_result",
          "data": {
            "text/plain": [
              "38423.3058581574"
            ]
          },
          "metadata": {},
          "execution_count": 10
        }
      ]
    },
    {
      "cell_type": "code",
      "source": [
        "lm.coef_"
      ],
      "metadata": {
        "colab": {
          "base_uri": "https://localhost:8080/"
        },
        "id": "TVkvwbeVrNCB",
        "outputId": "568972a3-4522-43ae-c102-5c2845f32219"
      },
      "execution_count": 11,
      "outputs": [
        {
          "output_type": "execute_result",
          "data": {
            "text/plain": [
              "array([-821.73337832])"
            ]
          },
          "metadata": {},
          "execution_count": 11
        }
      ]
    },
    {
      "cell_type": "markdown",
      "source": [
        "Cual es el modelo lineal estimado?\n",
        "\n",
        "Debemos tener un modelo lineal final con la siguiente estructura:\n",
        "\n",
        "yhat = a + bX\n",
        "\n",
        "por lo que tendriamos:\n",
        "\n",
        "**Price** = 38423.31 - 821.73 x **highway-mpg**"
      ],
      "metadata": {
        "id": "Jz5Dv5yVraNY"
      }
    },
    {
      "cell_type": "code",
      "source": [
        "#Crear un objeto de regresion lineal llamado lm1\n",
        "\n",
        "lm1 = LinearRegression()\n",
        "lm1"
      ],
      "metadata": {
        "colab": {
          "base_uri": "https://localhost:8080/"
        },
        "id": "XSfesXAWrZQ4",
        "outputId": "8e192b40-8253-49e1-c01c-9658b02d796f"
      },
      "execution_count": 12,
      "outputs": [
        {
          "output_type": "execute_result",
          "data": {
            "text/plain": [
              "LinearRegression()"
            ]
          },
          "metadata": {},
          "execution_count": 12
        }
      ]
    },
    {
      "cell_type": "code",
      "source": [
        "#Entrena el modelo utilizando \"engine-size\" como variable independiente y \"price \" como variable dependiente.\n",
        "\n",
        "lm1.fit(df[[\"engine-size\"]], df[[\"price\"]])\n",
        "lm1"
      ],
      "metadata": {
        "colab": {
          "base_uri": "https://localhost:8080/"
        },
        "id": "4SoI8sQ6sLin",
        "outputId": "6b53e893-3b01-4edc-e738-671718bae323"
      },
      "execution_count": 13,
      "outputs": [
        {
          "output_type": "execute_result",
          "data": {
            "text/plain": [
              "LinearRegression()"
            ]
          },
          "metadata": {},
          "execution_count": 13
        }
      ]
    },
    {
      "cell_type": "code",
      "source": [
        "#Slope\n",
        "lm1.coef_\n"
      ],
      "metadata": {
        "colab": {
          "base_uri": "https://localhost:8080/"
        },
        "id": "HHxs6VYvtMHQ",
        "outputId": "b316c1bd-e565-4cf9-f154-ba11bdaf61d9"
      },
      "execution_count": 14,
      "outputs": [
        {
          "output_type": "execute_result",
          "data": {
            "text/plain": [
              "array([[166.86001569]])"
            ]
          },
          "metadata": {},
          "execution_count": 14
        }
      ]
    },
    {
      "cell_type": "code",
      "source": [
        "#Intercept\n",
        "lm1.intercept_"
      ],
      "metadata": {
        "colab": {
          "base_uri": "https://localhost:8080/"
        },
        "id": "eAmgQsp7tr1i",
        "outputId": "24f5528c-8e48-4280-956e-22614b00aefc"
      },
      "execution_count": 15,
      "outputs": [
        {
          "output_type": "execute_result",
          "data": {
            "text/plain": [
              "array([-7963.33890628])"
            ]
          },
          "metadata": {},
          "execution_count": 15
        }
      ]
    },
    {
      "cell_type": "code",
      "source": [
        "#equiación predictiva lineal\n",
        "\n",
        "\n",
        "Price=-7963.34 + 166.86*df['engine-size']"
      ],
      "metadata": {
        "id": "QqWaQd6utzKW"
      },
      "execution_count": 16,
      "outputs": []
    },
    {
      "cell_type": "markdown",
      "source": [
        "**Multiple Linear Regression**\n",
        "\n",
        "Y que si queremos predecir el precio de un auto utilizando varias variables?\n",
        "\n",
        "Podemos utilizar Regresion Lineal Multiple, pero este metodo es utilizado para explicar la relación entre una varable de respuesta(dependendiente) y dos o mas variables predictorias(independientes).\n",
        "\n",
        "\n",
        "$$\n",
        "Y: Response \\ Variable\\\\\\\\\\\\\\\\\\\\\n",
        "X\\_1 :Predictor\\ Variable \\ 1\\\\\\\\\n",
        "X\\_2: Predictor\\ Variable \\ 2\\\\\\\\\n",
        "X\\_3: Predictor\\ Variable \\ 3\\\\\\\\\n",
        "X\\_4: Predictor\\ Variable \\ 4\\\\\\\\\n",
        "$$\n",
        "\n",
        "$$\n",
        "a: intercept\\\\\\\\\\\\\\\\\\\\\n",
        "b\\_1 :coefficients \\ of\\ Variable \\ 1\\\\\\\\\n",
        "b\\_2: coefficients \\ of\\ Variable \\ 2\\\\\\\\\n",
        "b\\_3: coefficients \\ of\\ Variable \\ 3\\\\\\\\\n",
        "b\\_4: coefficients \\ of\\ Variable \\ 4\\\\\\\\\n",
        "$$\n",
        "\n",
        "La ecuacion seria la siguiente:\n",
        "\n",
        "$$\n",
        "Yhat = a + b\\_1 X\\_1 + b\\_2 X\\_2 + b\\_3 X\\_3 + b\\_4 X\\_4\n",
        "$$\n",
        "\n"
      ],
      "metadata": {
        "id": "98cS_MDgutJa"
      }
    },
    {
      "cell_type": "code",
      "source": [
        "Z = df[['horsepower', 'curb-weight', 'engine-size', 'highway-mpg']]"
      ],
      "metadata": {
        "id": "G-XRp2x1uDOO"
      },
      "execution_count": 17,
      "outputs": []
    },
    {
      "cell_type": "code",
      "source": [
        "lm.fit(Z,df['price'])"
      ],
      "metadata": {
        "colab": {
          "base_uri": "https://localhost:8080/"
        },
        "id": "108_bx8X4oRy",
        "outputId": "2cb9327e-f27e-42da-c33f-b694158ed424"
      },
      "execution_count": 18,
      "outputs": [
        {
          "output_type": "execute_result",
          "data": {
            "text/plain": [
              "LinearRegression()"
            ]
          },
          "metadata": {},
          "execution_count": 18
        }
      ]
    },
    {
      "cell_type": "code",
      "source": [
        "lm.intercept_"
      ],
      "metadata": {
        "colab": {
          "base_uri": "https://localhost:8080/"
        },
        "id": "AvLulV6-5CDH",
        "outputId": "b4f16167-8c71-4a75-ba3a-732b04e2c5dc"
      },
      "execution_count": 19,
      "outputs": [
        {
          "output_type": "execute_result",
          "data": {
            "text/plain": [
              "-15806.62462632922"
            ]
          },
          "metadata": {},
          "execution_count": 19
        }
      ]
    },
    {
      "cell_type": "code",
      "source": [
        "lm.coef_"
      ],
      "metadata": {
        "colab": {
          "base_uri": "https://localhost:8080/"
        },
        "id": "LtJP3H0x5yAv",
        "outputId": "86e6c403-7536-486f-84b8-b640be5e09ba"
      },
      "execution_count": 20,
      "outputs": [
        {
          "output_type": "execute_result",
          "data": {
            "text/plain": [
              "array([53.49574423,  4.70770099, 81.53026382, 36.05748882])"
            ]
          },
          "metadata": {},
          "execution_count": 20
        }
      ]
    },
    {
      "cell_type": "markdown",
      "source": [
        "Por lo tanto tendremos la funcion lineal de la siguiente manera:\n",
        "\n",
        "$$\n",
        "Yhat = a + b\\_1 X\\_1 + b\\_2 X\\_2 + b\\_3 X\\_3 + b\\_4 X\\_4\n",
        "$$\n",
        "\n",
        "En el ejemplo, esta seria nuestra funcion?\n",
        "\n",
        "**Price** = -15678.742628061467 + 52.65851272 x **horsepower** + 4.69878948 x **curb-weight** + 81.95906216 x **engine-size** + 33.58258185 x **highway-mpg**"
      ],
      "metadata": {
        "id": "5RklnZ1D5-Kf"
      }
    },
    {
      "cell_type": "code",
      "source": [
        "#crear una Regresion Lineal Multiple \"lm2\" donde la variable respuesta sea \"precio\"\n",
        "#y la variables predictivas sean \"normalized-losses\" y \"highway-mpg\".\n",
        "\n",
        "lm2 = LinearRegression()\n",
        "lm2.fit(df[['normalized-losses', 'highway-mpg']], df['price'])"
      ],
      "metadata": {
        "colab": {
          "base_uri": "https://localhost:8080/"
        },
        "id": "br0QBrZN6xWi",
        "outputId": "72e48bc6-78e2-4c18-c75a-848b9ec926a1"
      },
      "execution_count": 23,
      "outputs": [
        {
          "output_type": "execute_result",
          "data": {
            "text/plain": [
              "LinearRegression()"
            ]
          },
          "metadata": {},
          "execution_count": 23
        }
      ]
    },
    {
      "cell_type": "code",
      "source": [
        "#encontrar el coeficiente\n",
        "lm2.coef_"
      ],
      "metadata": {
        "colab": {
          "base_uri": "https://localhost:8080/"
        },
        "id": "bvR4P3eq7scS",
        "outputId": "0e6f4783-4d93-4aea-a181-27650195847d"
      },
      "execution_count": 62,
      "outputs": [
        {
          "output_type": "execute_result",
          "data": {
            "text/plain": [
              "array([   1.49789586, -820.45434016])"
            ]
          },
          "metadata": {},
          "execution_count": 62
        }
      ]
    },
    {
      "cell_type": "markdown",
      "source": [
        "# Model Evaluation Using Visualization\n",
        "\n"
      ],
      "metadata": {
        "id": "AFMBGbXQ93fO"
      }
    },
    {
      "cell_type": "code",
      "source": [
        "import seaborn as sns\n",
        "%matplotlib inline "
      ],
      "metadata": {
        "id": "Nrv2dbu_947u"
      },
      "execution_count": 25,
      "outputs": []
    },
    {
      "cell_type": "markdown",
      "source": [
        "**Regression Plot**"
      ],
      "metadata": {
        "id": "m4UUTqnuBlKx"
      }
    },
    {
      "cell_type": "code",
      "source": [
        "width = 12\n",
        "height =  10\n",
        "plt.figure(figsize = (width, height))\n",
        "sns.regplot('highway-mpg', y='price', data=df)\n",
        "plt.ylim(0,)"
      ],
      "metadata": {
        "colab": {
          "base_uri": "https://localhost:8080/",
          "height": 678
        },
        "id": "L7pHqbvBBNU3",
        "outputId": "b3a41ad5-c752-4162-a2b6-0ec6c2ba875f"
      },
      "execution_count": 27,
      "outputs": [
        {
          "output_type": "stream",
          "name": "stderr",
          "text": [
            "/usr/local/lib/python3.7/dist-packages/seaborn/_decorators.py:43: FutureWarning: Pass the following variable as a keyword arg: x. From version 0.12, the only valid positional argument will be `data`, and passing other arguments without an explicit keyword will result in an error or misinterpretation.\n",
            "  FutureWarning\n"
          ]
        },
        {
          "output_type": "execute_result",
          "data": {
            "text/plain": [
              "(0.0, 48161.22809367746)"
            ]
          },
          "metadata": {},
          "execution_count": 27
        },
        {
          "output_type": "display_data",
          "data": {
            "text/plain": [
              "<Figure size 864x720 with 1 Axes>"
            ],
            "image/png": "[encoded data removed]"
          },
          "metadata": {
            "needs_background": "light"
          }
        }
      ]
    },
    {
      "cell_type": "code",
      "source": [
        "#Regression plot de \"peak-rpm\"\n",
        "\n",
        "plt.figure(figsize=(width,heigth))\n",
        "sns.regplot(x='peak-rpm', y='price', data=df)\n",
        "plt.ylim(0,)"
      ],
      "metadata": {
        "colab": {
          "base_uri": "https://localhost:8080/",
          "height": 623
        },
        "id": "pQEctncFCgTj",
        "outputId": "56dc73ab-26c0-4299-c70f-6b8e5ebd5d0b"
      },
      "execution_count": 29,
      "outputs": [
        {
          "output_type": "execute_result",
          "data": {
            "text/plain": [
              "(0.0, 47414.1)"
            ]
          },
          "metadata": {},
          "execution_count": 29
        },
        {
          "output_type": "display_data",
          "data": {
            "text/plain": [
              "<Figure size 864x720 with 1 Axes>"
            ],
            "image/png": "[encoded data removed]"
          },
          "metadata": {
            "needs_background": "light"
          }
        }
      ]
    },
    {
      "cell_type": "markdown",
      "source": [
        "Comparando la Regression plot de \"peak-rpm\" y \"higway-mpg\", podemos observar que los puntos de \"highway-mpg\" son mucho mas cercanos a la linea generada y en promedio disminuye.\n",
        "Los puntos de 'peak-rpm' estan mas dispersos al rededor de la linea predictiva y es mas dificil determinar si los puntos disminuyen o se incrementan cuando \"peak-rpm\" aumenta.\n"
      ],
      "metadata": {
        "id": "5UsBOaVyFCB_"
      }
    },
    {
      "cell_type": "code",
      "source": [
        "df[['peak-rpm','highway-mpg','price']].corr()"
      ],
      "metadata": {
        "colab": {
          "base_uri": "https://localhost:8080/",
          "height": 143
        },
        "id": "y2-S7-Y0EkWY",
        "outputId": "b9ce1836-2d19-47a0-c243-5777a7a0f5b7"
      },
      "execution_count": 30,
      "outputs": [
        {
          "output_type": "execute_result",
          "data": {
            "text/plain": [
              "             peak-rpm  highway-mpg     price\n",
              "peak-rpm     1.000000    -0.058598 -0.101616\n",
              "highway-mpg -0.058598     1.000000 -0.704692\n",
              "price       -0.101616    -0.704692  1.000000"
            ],
            "text/html": [
              "\n",
              "  <div id=\"df-1c2b7d76-6e77-49f6-8a0b-6d0d66d91a93\">\n",
              "    <div class=\"colab-df-container\">\n",
              "      <div>\n",
              "<style scoped>\n",
              "    .dataframe tbody tr th:only-of-type {\n",
              "        vertical-align: middle;\n",
              "    }\n",
              "\n",
              "    .dataframe tbody tr th {\n",
              "        vertical-align: top;\n",
              "    }\n",
              "\n",
              "    .dataframe thead th {\n",
              "        text-align: right;\n",
              "    }\n",
              "</style>\n",
              "<table border=\"1\" class=\"dataframe\">\n",
              "  <thead>\n",
              "    <tr style=\"text-align: right;\">\n",
              "      <th></th>\n",
              "      <th>peak-rpm</th>\n",
              "      <th>highway-mpg</th>\n",
              "      <th>price</th>\n",
              "    </tr>\n",
              "  </thead>\n",
              "  <tbody>\n",
              "    <tr>\n",
              "      <th>peak-rpm</th>\n",
              "      <td>1.000000</td>\n",
              "      <td>-0.058598</td>\n",
              "      <td>-0.101616</td>\n",
              "    </tr>\n",
              "    <tr>\n",
              "      <th>highway-mpg</th>\n",
              "      <td>-0.058598</td>\n",
              "      <td>1.000000</td>\n",
              "      <td>-0.704692</td>\n",
              "    </tr>\n",
              "    <tr>\n",
              "      <th>price</th>\n",
              "      <td>-0.101616</td>\n",
              "      <td>-0.704692</td>\n",
              "      <td>1.000000</td>\n",
              "    </tr>\n",
              "  </tbody>\n",
              "</table>\n",
              "</div>\n",
              "      <button class=\"colab-df-convert\" onclick=\"convertToInteractive('df-1c2b7d76-6e77-49f6-8a0b-6d0d66d91a93')\"\n",
              "              title=\"Convert this dataframe to an interactive table.\"\n",
              "              style=\"display:none;\">\n",
              "        \n",
              "  <svg xmlns=\"http://www.w3.org/2000/svg\" height=\"24px\"viewBox=\"0 0 24 24\"\n",
              "       width=\"24px\">\n",
              "    <path d=\"M0 0h24v24H0V0z\" fill=\"none\"/>\n",
              "    <path d=\"M18.56 5.44l.94 2.06.94-2.06 2.06-.94-2.06-.94-.94-2.06-.94 2.06-2.06.94zm-11 1L8.5 8.5l.94-2.06 2.06-.94-2.06-.94L8.5 2.5l-.94 2.06-2.06.94zm10 10l.94 2.06.94-2.06 2.06-.94-2.06-.94-.94-2.06-.94 2.06-2.06.94z\"/><path d=\"M17.41 7.96l-1.37-1.37c-.4-.4-.92-.59-1.43-.59-.52 0-1.04.2-1.43.59L10.3 9.45l-7.72 7.72c-.78.78-.78 2.05 0 2.83L4 21.41c.39.39.9.59 1.41.59.51 0 1.02-.2 1.41-.59l7.78-7.78 2.81-2.81c.8-.78.8-2.07 0-2.86zM5.41 20L4 18.59l7.72-7.72 1.47 1.35L5.41 20z\"/>\n",
              "  </svg>\n",
              "      </button>\n",
              "      \n",
              "  <style>\n",
              "    .colab-df-container {\n",
              "      display:flex;\n",
              "      flex-wrap:wrap;\n",
              "      gap: 12px;\n",
              "    }\n",
              "\n",
              "    .colab-df-convert {\n",
              "      background-color: #E8F0FE;\n",
              "      border: none;\n",
              "      border-radius: 50%;\n",
              "      cursor: pointer;\n",
              "      display: none;\n",
              "      fill: #1967D2;\n",
              "      height: 32px;\n",
              "      padding: 0 0 0 0;\n",
              "      width: 32px;\n",
              "    }\n",
              "\n",
              "    .colab-df-convert:hover {\n",
              "      background-color: #E2EBFA;\n",
              "      box-shadow: 0px 1px 2px rgba(60, 64, 67, 0.3), 0px 1px 3px 1px rgba(60, 64, 67, 0.15);\n",
              "      fill: #174EA6;\n",
              "    }\n",
              "\n",
              "    [theme=dark] .colab-df-convert {\n",
              "      background-color: #3B4455;\n",
              "      fill: #D2E3FC;\n",
              "    }\n",
              "\n",
              "    [theme=dark] .colab-df-convert:hover {\n",
              "      background-color: #434B5C;\n",
              "      box-shadow: 0px 1px 3px 1px rgba(0, 0, 0, 0.15);\n",
              "      filter: drop-shadow(0px 1px 2px rgba(0, 0, 0, 0.3));\n",
              "      fill: #FFFFFF;\n",
              "    }\n",
              "  </style>\n",
              "\n",
              "      <script>\n",
              "        const buttonEl =\n",
              "          document.querySelector('#df-1c2b7d76-6e77-49f6-8a0b-6d0d66d91a93 button.colab-df-convert');\n",
              "        buttonEl.style.display =\n",
              "          google.colab.kernel.accessAllowed ? 'block' : 'none';\n",
              "\n",
              "        async function convertToInteractive(key) {\n",
              "          const element = document.querySelector('#df-1c2b7d76-6e77-49f6-8a0b-6d0d66d91a93');\n",
              "          const dataTable =\n",
              "            await google.colab.kernel.invokeFunction('convertToInteractive',\n",
              "                                                     [key], {});\n",
              "          if (!dataTable) return;\n",
              "\n",
              "          const docLinkHtml = 'Like what you see? Visit the ' +\n",
              "            '<a target=\"_blank\" href=https://colab.research.google.com/notebooks/data_table.ipynb>data table notebook</a>'\n",
              "            + ' to learn more about interactive tables.';\n",
              "          element.innerHTML = '';\n",
              "          dataTable['output_type'] = 'display_data';\n",
              "          await google.colab.output.renderOutput(dataTable, element);\n",
              "          const docLink = document.createElement('div');\n",
              "          docLink.innerHTML = docLinkHtml;\n",
              "          element.appendChild(docLink);\n",
              "        }\n",
              "      </script>\n",
              "    </div>\n",
              "  </div>\n",
              "  "
            ]
          },
          "metadata": {},
          "execution_count": 30
        }
      ]
    },
    {
      "cell_type": "markdown",
      "source": [
        "**Residual Plot**"
      ],
      "metadata": {
        "id": "QZtvvLoUIKPt"
      }
    },
    {
      "cell_type": "code",
      "source": [
        "width = 12\n",
        "height = 10\n",
        "plt.figure(figsize=(width, height))\n",
        "sns.residplot(x=df['highway-mpg'],y=df['price'])\n",
        "plt.show()"
      ],
      "metadata": {
        "colab": {
          "base_uri": "https://localhost:8080/",
          "height": 606
        },
        "id": "NFyO9_MtH6X4",
        "outputId": "22c22bbc-27f7-43c9-95bb-480c48a4bb27"
      },
      "execution_count": 31,
      "outputs": [
        {
          "output_type": "display_data",
          "data": {
            "text/plain": [
              "<Figure size 864x720 with 1 Axes>"
            ],
            "image/png": "[encoded data removed]"
          },
          "metadata": {
            "needs_background": "light"
          }
        }
      ]
    },
    {
      "cell_type": "markdown",
      "source": [
        "**Multiple Linear Regression**"
      ],
      "metadata": {
        "id": "gUIXO_4uJRNn"
      }
    },
    {
      "cell_type": "code",
      "source": [
        "Y_hat = lm.predict(Z)"
      ],
      "metadata": {
        "id": "--Gu0iCBIzyb"
      },
      "execution_count": 32,
      "outputs": []
    },
    {
      "cell_type": "code",
      "source": [
        "plt.figure(figsize=(width, height))\n",
        "\n",
        "\n",
        "ax1 = sns.distplot(df['price'], hist=False, color=\"r\", label=\"Actual Value\")\n",
        "sns.distplot(Y_hat, hist=False, color=\"b\", label=\"Fitted Values\" , ax=ax1)\n",
        "\n",
        "\n",
        "plt.title('Actual vs Fitted Values for Price')\n",
        "plt.xlabel('Price (in dollars)')\n",
        "plt.ylabel('Proportion of Cars')\n",
        "\n",
        "plt.show()\n",
        "plt.close()"
      ],
      "metadata": {
        "colab": {
          "base_uri": "https://localhost:8080/",
          "height": 710
        },
        "id": "eQj7APF4JnbD",
        "outputId": "2e5fb01f-a86c-4cb6-98fa-aa1102cf6234"
      },
      "execution_count": 33,
      "outputs": [
        {
          "output_type": "stream",
          "name": "stderr",
          "text": [
            "/usr/local/lib/python3.7/dist-packages/seaborn/distributions.py:2619: FutureWarning: `distplot` is a deprecated function and will be removed in a future version. Please adapt your code to use either `displot` (a figure-level function with similar flexibility) or `kdeplot` (an axes-level function for kernel density plots).\n",
            "  warnings.warn(msg, FutureWarning)\n",
            "/usr/local/lib/python3.7/dist-packages/seaborn/distributions.py:2619: FutureWarning: `distplot` is a deprecated function and will be removed in a future version. Please adapt your code to use either `displot` (a figure-level function with similar flexibility) or `kdeplot` (an axes-level function for kernel density plots).\n",
            "  warnings.warn(msg, FutureWarning)\n"
          ]
        },
        {
          "output_type": "display_data",
          "data": {
            "text/plain": [
              "<Figure size 864x720 with 1 Axes>"
            ],
            "image/png": "[encoded data removed]"
          },
          "metadata": {
            "needs_background": "light"
          }
        }
      ]
    },
    {
      "cell_type": "markdown",
      "source": [
        "**Polynomial Regression and Pipelines**"
      ],
      "metadata": {
        "id": "tsXs8684LLvz"
      }
    },
    {
      "cell_type": "code",
      "source": [
        "def PlotPolly(model, independent_variable, dependent_variabble, Name):\n",
        "    x_new = np.linspace(15, 55, 100)\n",
        "    y_new = model(x_new)\n",
        "\n",
        "    plt.plot(independent_variable, dependent_variabble, '.', x_new, y_new, '-')\n",
        "    plt.title('Polynomial Fit with Matplotlib for Price ~ Length')\n",
        "    ax = plt.gca()\n",
        "    ax.set_facecolor((0.898, 0.898, 0.898))\n",
        "    fig = plt.gcf()\n",
        "    plt.xlabel(Name)\n",
        "    plt.ylabel('Price of Cars')\n",
        "\n",
        "    plt.show()\n",
        "    plt.close()"
      ],
      "metadata": {
        "id": "b4k9R-r1Jp3a"
      },
      "execution_count": 35,
      "outputs": []
    },
    {
      "cell_type": "code",
      "source": [
        "x = df['highway-mpg']\n",
        "y = df['price']"
      ],
      "metadata": {
        "id": "2zQv_1inLpzg"
      },
      "execution_count": 36,
      "outputs": []
    },
    {
      "cell_type": "code",
      "source": [
        "f = np.polyfit(x, y, 3)\n",
        "p = np.poly1d(f)\n",
        "print(p)"
      ],
      "metadata": {
        "colab": {
          "base_uri": "https://localhost:8080/"
        },
        "id": "5jjZr2FbNQLH",
        "outputId": "68cf8c53-71e5-4c58-bb44-7ab9b3e8360a"
      },
      "execution_count": 37,
      "outputs": [
        {
          "output_type": "stream",
          "name": "stdout",
          "text": [
            "        3         2\n",
            "-1.557 x + 204.8 x - 8965 x + 1.379e+05\n"
          ]
        }
      ]
    },
    {
      "cell_type": "code",
      "source": [
        "PlotPolly(p, x, y, 'highway-mpg')"
      ],
      "metadata": {
        "colab": {
          "base_uri": "https://localhost:8080/",
          "height": 295
        },
        "id": "OKbcbQ0NNTvV",
        "outputId": "6ea82a58-8d68-48c4-b643-8fa5b3acc425"
      },
      "execution_count": 38,
      "outputs": [
        {
          "output_type": "display_data",
          "data": {
            "text/plain": [
              "<Figure size 432x288 with 1 Axes>"
            ],
            "image/png": "[encoded data removed]"
          },
          "metadata": {
            "needs_background": "light"
          }
        }
      ]
    },
    {
      "cell_type": "code",
      "source": [
        "np.polyfit(x, y, 3)"
      ],
      "metadata": {
        "colab": {
          "base_uri": "https://localhost:8080/"
        },
        "id": "wDhAGdx8NVuF",
        "outputId": "c135eca8-59d0-4938-8119-5b8d1133e06e"
      },
      "execution_count": 39,
      "outputs": [
        {
          "output_type": "execute_result",
          "data": {
            "text/plain": [
              "array([-1.55663829e+00,  2.04754306e+02, -8.96543312e+03,  1.37923594e+05])"
            ]
          },
          "metadata": {},
          "execution_count": 39
        }
      ]
    },
    {
      "cell_type": "code",
      "source": [
        "f1 = np.polyfit(x, y, 11)\n",
        "p1 = np.poly1d(f1)\n",
        "print(p1)\n",
        "PlotPolly(p1,x,y, 'Highway MPG')"
      ],
      "metadata": {
        "colab": {
          "base_uri": "https://localhost:8080/",
          "height": 364
        },
        "id": "JGiRUhsnNZos",
        "outputId": "3c087477-e9b0-45d5-8f83-e3bdc82335e4"
      },
      "execution_count": 40,
      "outputs": [
        {
          "output_type": "stream",
          "name": "stdout",
          "text": [
            "            11             10             9           8         7\n",
            "-1.243e-08 x  + 4.722e-06 x  - 0.0008028 x + 0.08056 x - 5.297 x\n",
            "          6        5             4             3             2\n",
            " + 239.5 x - 7588 x + 1.684e+05 x - 2.565e+06 x + 2.551e+07 x - 1.491e+08 x + 3.879e+08\n"
          ]
        },
        {
          "output_type": "display_data",
          "data": {
            "text/plain": [
              "<Figure size 432x288 with 1 Axes>"
            ],
            "image/png": "[encoded data removed]"
          },
          "metadata": {
            "needs_background": "light"
          }
        }
      ]
    },
    {
      "cell_type": "code",
      "source": [
        "from sklearn.preprocessing import PolynomialFeatures"
      ],
      "metadata": {
        "id": "qXwZRBJLZA-a"
      },
      "execution_count": 46,
      "outputs": []
    },
    {
      "cell_type": "code",
      "source": [
        "pr=PolynomialFeatures(degree=2)\n",
        "pr"
      ],
      "metadata": {
        "colab": {
          "base_uri": "https://localhost:8080/"
        },
        "id": "okRlj3DxZEeZ",
        "outputId": "db228c90-7e74-4f05-8da4-1b480d8feaf0"
      },
      "execution_count": 47,
      "outputs": [
        {
          "output_type": "execute_result",
          "data": {
            "text/plain": [
              "PolynomialFeatures()"
            ]
          },
          "metadata": {},
          "execution_count": 47
        }
      ]
    },
    {
      "cell_type": "code",
      "source": [
        "Z_pr=pr.fit_transform(Z)"
      ],
      "metadata": {
        "id": "M5hsVgkqZHZU"
      },
      "execution_count": 48,
      "outputs": []
    },
    {
      "cell_type": "code",
      "source": [
        "Z.shape"
      ],
      "metadata": {
        "colab": {
          "base_uri": "https://localhost:8080/"
        },
        "id": "U0T0z6xdZKMJ",
        "outputId": "77f681c6-cbb8-4ac7-883d-4c6eed15962f"
      },
      "execution_count": 49,
      "outputs": [
        {
          "output_type": "execute_result",
          "data": {
            "text/plain": [
              "(201, 4)"
            ]
          },
          "metadata": {},
          "execution_count": 49
        }
      ]
    },
    {
      "cell_type": "code",
      "source": [
        "Z_pr.shape"
      ],
      "metadata": {
        "colab": {
          "base_uri": "https://localhost:8080/"
        },
        "id": "PZMFVVkOZNAF",
        "outputId": "b6bade4d-f84c-4c5e-c983-260112e998ed"
      },
      "execution_count": 50,
      "outputs": [
        {
          "output_type": "execute_result",
          "data": {
            "text/plain": [
              "(201, 15)"
            ]
          },
          "metadata": {},
          "execution_count": 50
        }
      ]
    },
    {
      "cell_type": "markdown",
      "source": [
        "**Pipeline**"
      ],
      "metadata": {
        "id": "FNzNVCuLYcBU"
      }
    },
    {
      "cell_type": "code",
      "source": [
        "from sklearn.pipeline import Pipeline\n",
        "from sklearn.preprocessing import StandardScaler"
      ],
      "metadata": {
        "id": "IWm1_qitNdkv"
      },
      "execution_count": 55,
      "outputs": []
    },
    {
      "cell_type": "code",
      "source": [
        "Input=[('scale',StandardScaler()), ('polynomial', PolynomialFeatures(include_bias=False)), ('model',LinearRegression())]"
      ],
      "metadata": {
        "id": "jYTfqhBoYnzI"
      },
      "execution_count": 56,
      "outputs": []
    },
    {
      "cell_type": "code",
      "source": [
        "pipe=Pipeline(Input)\n",
        "pipe"
      ],
      "metadata": {
        "colab": {
          "base_uri": "https://localhost:8080/"
        },
        "id": "zdt3sLXUYxx9",
        "outputId": "87c7c305-545c-4dac-b638-5220308de7ae"
      },
      "execution_count": 57,
      "outputs": [
        {
          "output_type": "execute_result",
          "data": {
            "text/plain": [
              "Pipeline(steps=[('scale', StandardScaler()),\n",
              "                ('polynomial', PolynomialFeatures(include_bias=False)),\n",
              "                ('model', LinearRegression())])"
            ]
          },
          "metadata": {},
          "execution_count": 57
        }
      ]
    },
    {
      "cell_type": "code",
      "source": [
        "Z = Z.astype(float)\n",
        "pipe.fit(Z,y)"
      ],
      "metadata": {
        "colab": {
          "base_uri": "https://localhost:8080/"
        },
        "id": "CwBrnspMZYtu",
        "outputId": "f7ed4944-188a-44b3-9aaf-1fa0ea3c19ff"
      },
      "execution_count": 58,
      "outputs": [
        {
          "output_type": "execute_result",
          "data": {
            "text/plain": [
              "Pipeline(steps=[('scale', StandardScaler()),\n",
              "                ('polynomial', PolynomialFeatures(include_bias=False)),\n",
              "                ('model', LinearRegression())])"
            ]
          },
          "metadata": {},
          "execution_count": 58
        }
      ]
    },
    {
      "cell_type": "code",
      "source": [
        "ypipe=pipe.predict(Z)\n",
        "ypipe[0:4]"
      ],
      "metadata": {
        "colab": {
          "base_uri": "https://localhost:8080/"
        },
        "id": "4xq7e2WdbSTA",
        "outputId": "4eae8610-b4de-4250-c01c-965b9fc4434a"
      },
      "execution_count": 59,
      "outputs": [
        {
          "output_type": "execute_result",
          "data": {
            "text/plain": [
              "array([13102.74784201, 13102.74784201, 18225.54572197, 10390.29636555])"
            ]
          },
          "metadata": {},
          "execution_count": 59
        }
      ]
    },
    {
      "cell_type": "code",
      "source": [
        "Input=[('scale',StandardScaler()),('model',LinearRegression())]\n",
        "\n",
        "pipe=Pipeline(Input)\n",
        "\n",
        "pipe.fit(Z,y)\n",
        "\n",
        "ypipe=pipe.predict(Z)\n",
        "ypipe[0:10]"
      ],
      "metadata": {
        "colab": {
          "base_uri": "https://localhost:8080/"
        },
        "id": "r9hecjMbbUXq",
        "outputId": "d74192ec-e2ab-4dd8-ee9b-c0981e60b313"
      },
      "execution_count": 60,
      "outputs": [
        {
          "output_type": "execute_result",
          "data": {
            "text/plain": [
              "array([13699.11161184, 13699.11161184, 19051.65470233, 10620.36193015,\n",
              "       15521.31420211, 13869.66673213, 15456.16196732, 15974.00907672,\n",
              "       17612.35917161, 10722.32509097])"
            ]
          },
          "metadata": {},
          "execution_count": 60
        }
      ]
    },
    {
      "cell_type": "markdown",
      "source": [
        "**Measures for In-Sample Evaluation**"
      ],
      "metadata": {
        "id": "85uIKe3XbyrD"
      }
    },
    {
      "cell_type": "markdown",
      "source": [
        "\n",
        "Cuando evaluamos nuestros modelos, no solo queremos visualizar los resultados, tambien queremos una medida cuantitativa para determinar que tan preciso es nuestro modelo.\n",
        "\n",
        "Dos medidas muy importantes que son normalmente usadas en estadistica para determinar la preciosion de un modelo son\n",
        "\n",
        "*   R^2 / R-squared\n",
        "*   Mean Squared Error (MSE)"
      ],
      "metadata": {
        "id": "y91HFb7EdGps"
      }
    },
    {
      "cell_type": "markdown",
      "source": [
        "**R-squared**\n",
        "\n",
        "Tambien conocida como coeffieciente de determinación, es una medida que indica que tan cerca esta el dato a la linea de regresion (fitted regression line)\n",
        "\n",
        "El valor de R-squared es el pocentaje de variación de la variable de respuesta(y) explicada por el modelo lineal.\n",
        "\n",
        "**Mean Squared Error (MSE)**\n",
        "\n",
        "Mide el promedio de los errores cuadrados. Es la diferencia entre el valor actual(y) y el valor estimado(ŷ)."
      ],
      "metadata": {
        "id": "CDoR5Uf-ezys"
      }
    },
    {
      "cell_type": "markdown",
      "source": [
        "**Model 1: Simple Linear Regression**"
      ],
      "metadata": {
        "id": "kiWAWNJlg0GX"
      }
    },
    {
      "cell_type": "code",
      "source": [
        "#highway_mpg_fit\n",
        "lm.fit(X, Y)\n",
        "#encuentra la  R^2\n",
        "print('The R-square is: ', lm.score(X, Y))"
      ],
      "metadata": {
        "colab": {
          "base_uri": "https://localhost:8080/"
        },
        "id": "eUBQ9x-4hA2u",
        "outputId": "ad44c03b-5d1e-430d-b4f0-8dcfbcc69efc"
      },
      "execution_count": 63,
      "outputs": [
        {
          "output_type": "stream",
          "name": "stdout",
          "text": [
            "The R-square is:  0.4965911884339176\n"
          ]
        }
      ]
    },
    {
      "cell_type": "markdown",
      "source": [
        "Podemos decir que cerca del 49.659% de la variación del precio es aplicada por esta simple regresion lineal \"hoserpower_fit\"\n",
        "\n"
      ],
      "metadata": {
        "id": "nIltwxenhfzI"
      }
    },
    {
      "cell_type": "code",
      "source": [
        "Yhat=lm.predict(X)\n",
        "print('The output of the first four predicted value is: ', Yhat[0:4])"
      ],
      "metadata": {
        "colab": {
          "base_uri": "https://localhost:8080/"
        },
        "id": "UYYWCciHhGNr",
        "outputId": "a114cb6e-d560-4d29-f8e9-c1bd90e9c04c"
      },
      "execution_count": 64,
      "outputs": [
        {
          "output_type": "stream",
          "name": "stdout",
          "text": [
            "The output of the first four predicted value is:  [16236.50464347 16236.50464347 17058.23802179 13771.3045085 ]\n"
          ]
        }
      ]
    },
    {
      "cell_type": "code",
      "source": [
        "from sklearn.metrics import mean_squared_error"
      ],
      "metadata": {
        "id": "Nv0DDglNh8_9"
      },
      "execution_count": 65,
      "outputs": []
    },
    {
      "cell_type": "code",
      "source": [
        "mse = mean_squared_error(df['price'], Yhat)\n",
        "print('The mean square error of price and predicted value is: ', mse)"
      ],
      "metadata": {
        "colab": {
          "base_uri": "https://localhost:8080/"
        },
        "id": "loOz5_C3jVtM",
        "outputId": "560a4e79-5990-4f31-98d5-bcfb4849d18e"
      },
      "execution_count": 66,
      "outputs": [
        {
          "output_type": "stream",
          "name": "stdout",
          "text": [
            "The mean square error of price and predicted value is:  31635042.944639888\n"
          ]
        }
      ]
    },
    {
      "cell_type": "markdown",
      "source": [
        "**Model 2: Multiple Linear Regression**"
      ],
      "metadata": {
        "id": "CK7xupf2js3-"
      }
    },
    {
      "cell_type": "code",
      "source": [
        "# fit the model \n",
        "lm.fit(Z, df['price'])\n",
        "# encuentra la R^2\n",
        "print('The R-square is: ', lm.score(Z, df['price']))"
      ],
      "metadata": {
        "colab": {
          "base_uri": "https://localhost:8080/"
        },
        "id": "wRcUhO-WjYOG",
        "outputId": "5056b707-4109-45f1-d29f-4f0b22112af0"
      },
      "execution_count": 67,
      "outputs": [
        {
          "output_type": "stream",
          "name": "stdout",
          "text": [
            "The R-square is:  0.8093562806577457\n"
          ]
        }
      ]
    },
    {
      "cell_type": "markdown",
      "source": [
        "Podemos decir que el 80% de la variación del precio es explicada por la regresion lineal multiple \"multi_fit\"\n"
      ],
      "metadata": {
        "id": "FHRZKDhikGoT"
      }
    },
    {
      "cell_type": "code",
      "source": [
        "Y_predict_multifit = lm.predict(Z)"
      ],
      "metadata": {
        "id": "Hf82Atrojyp9"
      },
      "execution_count": 68,
      "outputs": []
    },
    {
      "cell_type": "code",
      "source": [
        "print('The mean square error of price and predicted value using multifit is: ', \\\n",
        "      mean_squared_error(df['price'], Y_predict_multifit))"
      ],
      "metadata": {
        "colab": {
          "base_uri": "https://localhost:8080/"
        },
        "id": "RlGvB3-Sx5U5",
        "outputId": "3c23d16e-1cba-4021-dd92-ca156f7472e9"
      },
      "execution_count": 69,
      "outputs": [
        {
          "output_type": "stream",
          "name": "stdout",
          "text": [
            "The mean square error of price and predicted value using multifit is:  11980366.87072649\n"
          ]
        }
      ]
    },
    {
      "cell_type": "markdown",
      "source": [
        "**Model 3: Polynomial Fit**"
      ],
      "metadata": {
        "id": "tfAP2FBAyEp7"
      }
    },
    {
      "cell_type": "code",
      "source": [
        "from sklearn.metrics import r2_score"
      ],
      "metadata": {
        "id": "xkyoMtSvx8UB"
      },
      "execution_count": 70,
      "outputs": []
    },
    {
      "cell_type": "code",
      "source": [
        "r_squared = r2_score(y, p(x))\n",
        "print('The R-square value is: ', r_squared)"
      ],
      "metadata": {
        "colab": {
          "base_uri": "https://localhost:8080/"
        },
        "id": "z0IPxhmiyMP_",
        "outputId": "1adf56d7-6877-4e84-9f90-00c7b9475305"
      },
      "execution_count": 71,
      "outputs": [
        {
          "output_type": "stream",
          "name": "stdout",
          "text": [
            "The R-square value is:  0.674194666390652\n"
          ]
        }
      ]
    },
    {
      "cell_type": "markdown",
      "source": [
        "**MSE**"
      ],
      "metadata": {
        "id": "rIwnr5gmyPdS"
      }
    },
    {
      "cell_type": "code",
      "source": [
        "mean_squared_error(df['price'], p(x))"
      ],
      "metadata": {
        "colab": {
          "base_uri": "https://localhost:8080/"
        },
        "id": "Rn--eDKsyM6W",
        "outputId": "05bb3435-fb58-492e-82c9-582168933c87"
      },
      "execution_count": 72,
      "outputs": [
        {
          "output_type": "execute_result",
          "data": {
            "text/plain": [
              "20474146.426361218"
            ]
          },
          "metadata": {},
          "execution_count": 72
        }
      ]
    },
    {
      "cell_type": "markdown",
      "source": [
        "**5. Prediction and Decision Making**"
      ],
      "metadata": {
        "id": "bWMZMNOQyYsm"
      }
    },
    {
      "cell_type": "code",
      "source": [
        "import matplotlib.pyplot as plt\n",
        "import numpy as np\n",
        "\n",
        "%matplotlib inline "
      ],
      "metadata": {
        "id": "0sbLW1DeyVBA"
      },
      "execution_count": 73,
      "outputs": []
    },
    {
      "cell_type": "code",
      "source": [
        "new_input=np.arange(1, 100, 1).reshape(-1, 1)"
      ],
      "metadata": {
        "id": "H8SpPCy9ye25"
      },
      "execution_count": 74,
      "outputs": []
    },
    {
      "cell_type": "code",
      "source": [
        "lm.fit(X, Y)\n",
        "lm"
      ],
      "metadata": {
        "colab": {
          "base_uri": "https://localhost:8080/"
        },
        "id": "Du7e4i9KyhKY",
        "outputId": "87f3f72f-c978-414c-9936-2d09a268ac2b"
      },
      "execution_count": 75,
      "outputs": [
        {
          "output_type": "execute_result",
          "data": {
            "text/plain": [
              "LinearRegression()"
            ]
          },
          "metadata": {},
          "execution_count": 75
        }
      ]
    },
    {
      "cell_type": "code",
      "source": [
        "yhat=lm.predict(new_input)\n",
        "yhat[0:5]"
      ],
      "metadata": {
        "colab": {
          "base_uri": "https://localhost:8080/"
        },
        "id": "hg3qy0ZOyjW7",
        "outputId": "26c6e019-ac48-4cee-c5c3-4c2f11317007"
      },
      "execution_count": 76,
      "outputs": [
        {
          "output_type": "stream",
          "name": "stderr",
          "text": [
            "/usr/local/lib/python3.7/dist-packages/sklearn/base.py:451: UserWarning: X does not have valid feature names, but LinearRegression was fitted with feature names\n",
            "  \"X does not have valid feature names, but\"\n"
          ]
        },
        {
          "output_type": "execute_result",
          "data": {
            "text/plain": [
              "array([37601.57247984, 36779.83910151, 35958.10572319, 35136.37234487,\n",
              "       34314.63896655])"
            ]
          },
          "metadata": {},
          "execution_count": 76
        }
      ]
    },
    {
      "cell_type": "code",
      "source": [
        "plt.plot(new_input, yhat)\n",
        "plt.show()"
      ],
      "metadata": {
        "colab": {
          "base_uri": "https://localhost:8080/",
          "height": 265
        },
        "id": "EXYSmwVNylYl",
        "outputId": "30845189-63ac-42fa-a287-0bd965670391"
      },
      "execution_count": 77,
      "outputs": [
        {
          "output_type": "display_data",
          "data": {
            "text/plain": [
              "<Figure size 432x288 with 1 Axes>"
            ],
            "image/png": "[encoded data removed]"
          },
          "metadata": {
            "needs_background": "light"
          }
        }
      ]
    },
    {
      "cell_type": "markdown",
      "source": [
        "**Decision Making: Determining a Good Model Fit**"
      ],
      "metadata": {
        "id": "X1xPdGbWy0VV"
      }
    },
    {
      "cell_type": "markdown",
      "source": [
        "\n",
        "Ahora que hemos visualizado los diferentes modelos y generado el R-square y MSE, como podemos determinar el mas adecuado?\n",
        "\n",
        "•\tCual es un buen valor de R-square?\n",
        "\n",
        "Cuando comparamos modelos, el modelo que tenga **mayor valor de R-square** es el más adecuado para los datos.\n",
        "\n",
        "\n",
        "•\tCuales es un buen valor de MSE?\n",
        "\n",
        "Cuando comparamos modelos, el modelo que tenga **menor valor de MSE** es el más adecuado para los datos.\n"
      ],
      "metadata": {
        "id": "iKJhAkk33a6Q"
      }
    },
    {
      "cell_type": "markdown",
      "source": [
        "**Conclusion**\n",
        "\n",
        "Comparando los tres modelos, concluimos que **el MLR(Multiple Linear Regression) es el mejor modelo** para predecir el precio de nuestro dataset.\n",
        "Este resultado hace sentido debido a que tenemos 27 variables en total y sabemos que mas de una variable son potenciales predictoras del precio final del automóvil."
      ],
      "metadata": {
        "id": "hVzlQ7eq4vCt"
      }
    },
    {
      "cell_type": "markdown",
      "source": [
        "![Modulo4.png](data:image/png;base64,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)"
      ],
      "metadata": {
        "id": "ReQOcYc6JmT1"
      }
    }
  ]
}