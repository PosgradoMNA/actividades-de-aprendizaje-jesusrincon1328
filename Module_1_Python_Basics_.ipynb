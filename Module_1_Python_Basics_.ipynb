{
  "nbformat": 4,
  "nbformat_minor": 0,
  "metadata": {
    "colab": {
      "provenance": [],
      "authorship_tag": "ABX9TyPWI4VEF1lPPKu7V5Df+k0q",
      "include_colab_link": true
    },
    "kernelspec": {
      "name": "python3",
      "display_name": "Python 3"
    },
    "language_info": {
      "name": "python"
    }
  },
  "cells": [
    {
      "cell_type": "markdown",
      "metadata": {
        "id": "view-in-github",
        "colab_type": "text"
      },
      "source": [
        "<a href=\"https://colab.research.google.com/github/PosgradoMNA/actividades-de-aprendizaje-jesusrincon1328/blob/main/Module_1_Python_Basics_.ipynb\" target=\"_parent\"><img src=\"https://colab.research.google.com/assets/colab-badge.svg\" alt=\"Open In Colab\"/></a>"
      ]
    },
    {
      "cell_type": "code",
      "execution_count": null,
      "metadata": {
        "id": "5Dk9tSVxso1D",
        "outputId": "0c2b0bf7-cff1-4111-b480-e48208f568eb",
        "colab": {
          "base_uri": "https://localhost:8080/"
        }
      },
      "outputs": [
        {
          "output_type": "stream",
          "name": "stdout",
          "text": [
            "Hello Python 101\n"
          ]
        }
      ],
      "source": [
        "print('Hello Python 101')"
      ]
    },
    {
      "cell_type": "code",
      "source": [
        "#print Hello Python 101\n",
        "print('Hello Python 101')"
      ],
      "metadata": {
        "id": "unMdvvYItaAI",
        "outputId": "349d51b5-6e9c-4be2-f365-cd85e18663e0",
        "colab": {
          "base_uri": "https://localhost:8080/"
        }
      },
      "execution_count": null,
      "outputs": [
        {
          "output_type": "stream",
          "name": "stdout",
          "text": [
            "Hello Python 101\n"
          ]
        }
      ]
    },
    {
      "cell_type": "code",
      "source": [
        "#Quiestion 1\n",
        "print(\"Hello\\nWorld!\")"
      ],
      "metadata": {
        "id": "ZV92-kcZtz34",
        "outputId": "dc92cb49-c718-4732-fca2-906553372dd3",
        "colab": {
          "base_uri": "https://localhost:8080/"
        }
      },
      "execution_count": null,
      "outputs": [
        {
          "output_type": "stream",
          "name": "stdout",
          "text": [
            "Hello\n",
            "World!\n"
          ]
        }
      ]
    },
    {
      "cell_type": "code",
      "source": [
        "#Question 2\n",
        "# print('Hello World!')"
      ],
      "metadata": {
        "id": "h4n3yTpquB6p"
      },
      "execution_count": null,
      "outputs": []
    }
  ]
}