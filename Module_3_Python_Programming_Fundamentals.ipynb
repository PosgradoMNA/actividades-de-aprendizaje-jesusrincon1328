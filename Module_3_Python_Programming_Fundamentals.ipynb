{
  "nbformat": 4,
  "nbformat_minor": 0,
  "metadata": {
    "colab": {
      "provenance": [],
      "authorship_tag": "ABX9TyOjg0Tys90f+/ITC0ikBKCj",
      "include_colab_link": true
    },
    "kernelspec": {
      "name": "python3",
      "display_name": "Python 3"
    },
    "language_info": {
      "name": "python"
    }
  },
  "cells": [
    {
      "cell_type": "markdown",
      "metadata": {
        "id": "view-in-github",
        "colab_type": "text"
      },
      "source": [
        "<a href=\"https://colab.research.google.com/github/PosgradoMNA/actividades-de-aprendizaje-jesusrincon1328/blob/main/Module_3_Python_Programming_Fundamentals.ipynb\" target=\"_parent\"><img src=\"https://colab.research.google.com/assets/colab-badge.svg\" alt=\"Open In Colab\"/></a>"
      ]
    },
    {
      "cell_type": "code",
      "execution_count": 7,
      "metadata": {
        "id": "xGfjo-X0o0VC"
      },
      "outputs": [],
      "source": [
        "i=0"
      ]
    },
    {
      "cell_type": "code",
      "source": [
        "i!=0"
      ],
      "metadata": {
        "id": "48Qkzu_dxvxt",
        "outputId": "8cec17f3-d81f-4e67-9f32-b69935eaa8bb",
        "colab": {
          "base_uri": "https://localhost:8080/"
        }
      },
      "execution_count": 8,
      "outputs": [
        {
          "output_type": "execute_result",
          "data": {
            "text/plain": [
              "False"
            ]
          },
          "metadata": {},
          "execution_count": 8
        }
      ]
    },
    {
      "cell_type": "code",
      "source": [
        "x='a'"
      ],
      "metadata": {
        "id": "oQ1kr1UXyLD7"
      },
      "execution_count": 11,
      "outputs": []
    },
    {
      "cell_type": "code",
      "source": [
        "\n",
        "if(x!='a'): print(\"This is not a\")\n",
        "\n",
        "else: print(\"This is a\")"
      ],
      "metadata": {
        "id": "W8USCJ-3xy7j",
        "outputId": "35e84724-7eb9-4af2-9468-5bc057a7726e",
        "colab": {
          "base_uri": "https://localhost:8080/"
        }
      },
      "execution_count": 17,
      "outputs": [
        {
          "output_type": "stream",
          "name": "stdout",
          "text": [
            "This is a\n"
          ]
        }
      ]
    },
    {
      "cell_type": "code",
      "source": [
        "i=2\n",
        "i!=0"
      ],
      "metadata": {
        "id": "J44yj3tbyFNS",
        "outputId": "108a44f3-f893-48d1-e73c-9a46b4cb46ff",
        "colab": {
          "base_uri": "https://localhost:8080/"
        }
      },
      "execution_count": 18,
      "outputs": [
        {
          "output_type": "execute_result",
          "data": {
            "text/plain": [
              "True"
            ]
          },
          "metadata": {},
          "execution_count": 18
        }
      ]
    },
    {
      "cell_type": "code",
      "source": [
        "x = \"a\"\n",
        "if(x=='a'):\n",
        "    print(\"this is a\")\n",
        "else:\n",
        "    print(\"this is  not a\")"
      ],
      "metadata": {
        "id": "Tc6c4ZOBzehU",
        "outputId": "f45c586a-88cd-49f2-9271-3e4e5d3d846b",
        "colab": {
          "base_uri": "https://localhost:8080/"
        }
      },
      "execution_count": 19,
      "outputs": [
        {
          "output_type": "stream",
          "name": "stdout",
          "text": [
            "this is a\n"
          ]
        }
      ]
    },
    {
      "cell_type": "code",
      "source": [
        "y=5\n",
        "x=1\n",
        "x>0 and y<10"
      ],
      "metadata": {
        "id": "1zkgSGxBzg1P",
        "outputId": "5bce37d5-75f6-4b96-8df6-fde2b3770d77",
        "colab": {
          "base_uri": "https://localhost:8080/"
        }
      },
      "execution_count": 20,
      "outputs": [
        {
          "output_type": "execute_result",
          "data": {
            "text/plain": [
              "True"
            ]
          },
          "metadata": {},
          "execution_count": 20
        }
      ]
    },
    {
      "cell_type": "code",
      "source": [],
      "metadata": {
        "id": "2VuGWBvAzjeZ"
      },
      "execution_count": null,
      "outputs": []
    }
  ]
}