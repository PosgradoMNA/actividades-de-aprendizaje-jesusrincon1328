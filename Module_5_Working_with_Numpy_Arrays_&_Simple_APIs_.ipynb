{
  "nbformat": 4,
  "nbformat_minor": 0,
  "metadata": {
    "colab": {
      "provenance": [],
      "authorship_tag": "ABX9TyMODpkH6BCAMbEtXzFOMXxM",
      "include_colab_link": true
    },
    "kernelspec": {
      "name": "python3",
      "display_name": "Python 3"
    },
    "language_info": {
      "name": "python"
    }
  },
  "cells": [
    {
      "cell_type": "markdown",
      "metadata": {
        "id": "view-in-github",
        "colab_type": "text"
      },
      "source": [
        "<a href=\"https://colab.research.google.com/github/PosgradoMNA/actividades-de-aprendizaje-jesusrincon1328/blob/main/Module_5_Working_with_Numpy_Arrays_%26_Simple_APIs_.ipynb\" target=\"_parent\"><img src=\"https://colab.research.google.com/assets/colab-badge.svg\" alt=\"Open In Colab\"/></a>"
      ]
    },
    {
      "cell_type": "code",
      "source": [
        "#Importar la libreria numpy\n",
        "import numpy as np"
      ],
      "metadata": {
        "id": "5M8gfhAdnLbc"
      },
      "execution_count": 1,
      "outputs": []
    },
    {
      "cell_type": "code",
      "source": [
        "#Crear numpy array\n",
        "a = np.array([0,1,2,3,4])\n",
        "a"
      ],
      "metadata": {
        "colab": {
          "base_uri": "https://localhost:8080/"
        },
        "id": "NXOFGH_wnVEu",
        "outputId": "5f8823bf-2fcc-48b5-9f62-78662f212ff2"
      },
      "execution_count": 3,
      "outputs": [
        {
          "output_type": "execute_result",
          "data": {
            "text/plain": [
              "array([0, 1, 2, 3, 4])"
            ]
          },
          "metadata": {},
          "execution_count": 3
        }
      ]
    },
    {
      "cell_type": "code",
      "source": [
        "#como en una lista podemos acceder a cada elemento a traves de square bracket\n",
        "print(\"a[0]:\",a[0])\n",
        "print(\"a[1]:\",a[1])\n",
        "print(\"a[1]:\",a[2])\n",
        "print(\"a[1]:\",a[3])\n",
        "print(\"a[1]:\",a[4])"
      ],
      "metadata": {
        "colab": {
          "base_uri": "https://localhost:8080/"
        },
        "id": "TDdUUn68ncJH",
        "outputId": "01748312-6404-4482-d3a9-d971a848df50"
      },
      "execution_count": 13,
      "outputs": [
        {
          "output_type": "stream",
          "name": "stdout",
          "text": [
            "a[0]: 0\n",
            "a[1]: 1\n",
            "a[1]: 2\n",
            "a[1]: 3\n",
            "a[1]: 4\n"
          ]
        }
      ]
    },
    {
      "cell_type": "code",
      "source": [
        "#revisar la version de numpy\n",
        "print(np.__version__)"
      ],
      "metadata": {
        "colab": {
          "base_uri": "https://localhost:8080/"
        },
        "id": "kOCwzHSZoMMl",
        "outputId": "cc7dbbad-0598-475d-ee8f-e0a112e1138a"
      },
      "execution_count": 14,
      "outputs": [
        {
          "output_type": "stream",
          "name": "stdout",
          "text": [
            "1.21.6\n"
          ]
        }
      ]
    },
    {
      "cell_type": "code",
      "source": [
        "#Revisar el tipo de array\n",
        "type(a)\n"
      ],
      "metadata": {
        "colab": {
          "base_uri": "https://localhost:8080/"
        },
        "id": "Du42ITorpNoA",
        "outputId": "28497493-f787-47e9-bb6e-a5645dd94990"
      },
      "execution_count": 16,
      "outputs": [
        {
          "output_type": "execute_result",
          "data": {
            "text/plain": [
              "numpy.ndarray"
            ]
          },
          "metadata": {},
          "execution_count": 16
        }
      ]
    },
    {
      "cell_type": "code",
      "source": [
        "#obtener el tipo de valores que contiene el numpy array con la funcion \"dtype\"\n",
        "a.dtype"
      ],
      "metadata": {
        "colab": {
          "base_uri": "https://localhost:8080/"
        },
        "id": "GZiamuy1paGM",
        "outputId": "0c327c26-7b00-484c-9303-4e6fe84a4fd8"
      },
      "execution_count": 18,
      "outputs": [
        {
          "output_type": "execute_result",
          "data": {
            "text/plain": [
              "dtype('int64')"
            ]
          },
          "metadata": {},
          "execution_count": 18
        }
      ]
    },
    {
      "cell_type": "code",
      "source": [
        "#realizar otro ejemplo con la funcion \"dtype\"\n",
        "b = np.array([3.1, 11.02, 6.2, 213.2, 5.2])\n",
        "b.dtype"
      ],
      "metadata": {
        "colab": {
          "base_uri": "https://localhost:8080/"
        },
        "id": "XhbUtdnBqJOG",
        "outputId": "0cc8edaf-aebe-4f56-bf20-623129f128fc"
      },
      "execution_count": 20,
      "outputs": [
        {
          "output_type": "execute_result",
          "data": {
            "text/plain": [
              "dtype('float64')"
            ]
          },
          "metadata": {},
          "execution_count": 20
        }
      ]
    },
    {
      "cell_type": "code",
      "source": [
        "#cambiar un valor en el array\n",
        "c=np.array([20,1,2,3,4])\n",
        "c"
      ],
      "metadata": {
        "colab": {
          "base_uri": "https://localhost:8080/"
        },
        "id": "YwUvhS8SrL_H",
        "outputId": "d7b0ad42-aaf6-4794-b965-ce2189931dde"
      },
      "execution_count": 21,
      "outputs": [
        {
          "output_type": "execute_result",
          "data": {
            "text/plain": [
              "array([20,  1,  2,  3,  4])"
            ]
          },
          "metadata": {},
          "execution_count": 21
        }
      ]
    },
    {
      "cell_type": "code",
      "source": [],
      "metadata": {
        "id": "s-5eURiwrzj5"
      },
      "execution_count": null,
      "outputs": []
    }
  ]
}