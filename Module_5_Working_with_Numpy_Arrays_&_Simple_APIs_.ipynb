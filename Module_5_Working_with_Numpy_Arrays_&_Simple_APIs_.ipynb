{
  "nbformat": 4,
  "nbformat_minor": 0,
  "metadata": {
    "colab": {
      "provenance": [],
      "authorship_tag": "ABX9TyNaQ/xN5R0wpnPHauZ4xe3k",
      "include_colab_link": true
    },
    "kernelspec": {
      "name": "python3",
      "display_name": "Python 3"
    },
    "language_info": {
      "name": "python"
    }
  },
  "cells": [
    {
      "cell_type": "markdown",
      "metadata": {
        "id": "view-in-github",
        "colab_type": "text"
      },
      "source": [
        "<a href=\"https://colab.research.google.com/github/PosgradoMNA/actividades-de-aprendizaje-jesusrincon1328/blob/main/Module_5_Working_with_Numpy_Arrays_%26_Simple_APIs_.ipynb\" target=\"_parent\"><img src=\"https://colab.research.google.com/assets/colab-badge.svg\" alt=\"Open In Colab\"/></a>"
      ]
    },
    {
      "cell_type": "code",
      "source": [
        "#Importar la libreria numpy\n",
        "import numpy as np"
      ],
      "metadata": {
        "id": "5M8gfhAdnLbc"
      },
      "execution_count": 7,
      "outputs": []
    },
    {
      "cell_type": "code",
      "source": [
        "#Crear numpy array\n",
        "a = np.array([0,1,2,3,4])\n",
        "a"
      ],
      "metadata": {
        "colab": {
          "base_uri": "https://localhost:8080/"
        },
        "id": "NXOFGH_wnVEu",
        "outputId": "056c3440-f3ed-4e87-f077-3b2f57293593"
      },
      "execution_count": 8,
      "outputs": [
        {
          "output_type": "execute_result",
          "data": {
            "text/plain": [
              "array([0, 1, 2, 3, 4])"
            ]
          },
          "metadata": {},
          "execution_count": 8
        }
      ]
    },
    {
      "cell_type": "code",
      "source": [
        "#como en una lista podemos acceder a cada elemento a traves de square bracket\n",
        "print(\"a[0]:\",a[0])\n",
        "print(\"a[1]:\",a[1])\n",
        "print(\"a[1]:\",a[2])\n",
        "print(\"a[1]:\",a[3])\n",
        "print(\"a[1]:\",a[4])"
      ],
      "metadata": {
        "colab": {
          "base_uri": "https://localhost:8080/"
        },
        "id": "TDdUUn68ncJH",
        "outputId": "b0199c5c-4bb6-45de-de42-a4829f2c2481"
      },
      "execution_count": 9,
      "outputs": [
        {
          "output_type": "stream",
          "name": "stdout",
          "text": [
            "a[0]: 0\n",
            "a[1]: 1\n",
            "a[1]: 2\n",
            "a[1]: 3\n",
            "a[1]: 4\n"
          ]
        }
      ]
    },
    {
      "cell_type": "code",
      "source": [
        "#revisar la version de numpy\n",
        "print(np.__version__)"
      ],
      "metadata": {
        "colab": {
          "base_uri": "https://localhost:8080/"
        },
        "id": "kOCwzHSZoMMl",
        "outputId": "0a2e26aa-33a3-4096-cb8d-fd6633711e37"
      },
      "execution_count": 10,
      "outputs": [
        {
          "output_type": "stream",
          "name": "stdout",
          "text": [
            "1.21.6\n"
          ]
        }
      ]
    },
    {
      "cell_type": "code",
      "source": [
        "#Revisar el tipo de array\n",
        "type(a)\n"
      ],
      "metadata": {
        "colab": {
          "base_uri": "https://localhost:8080/"
        },
        "id": "Du42ITorpNoA",
        "outputId": "e91d822b-226f-45f1-c9b5-60fac3ffa1f5"
      },
      "execution_count": 11,
      "outputs": [
        {
          "output_type": "execute_result",
          "data": {
            "text/plain": [
              "numpy.ndarray"
            ]
          },
          "metadata": {},
          "execution_count": 11
        }
      ]
    },
    {
      "cell_type": "code",
      "source": [
        "#obtener el tipo de valores que contiene el numpy array con la funcion \"dtype\"\n",
        "a.dtype"
      ],
      "metadata": {
        "colab": {
          "base_uri": "https://localhost:8080/"
        },
        "id": "GZiamuy1paGM",
        "outputId": "618045e0-359e-4fe2-dd9b-5d84b914f672"
      },
      "execution_count": 12,
      "outputs": [
        {
          "output_type": "execute_result",
          "data": {
            "text/plain": [
              "dtype('int64')"
            ]
          },
          "metadata": {},
          "execution_count": 12
        }
      ]
    },
    {
      "cell_type": "code",
      "source": [
        "#realizar otro ejemplo con la funcion \"dtype\"\n",
        "b = np.array([3.1, 11.02, 6.2, 213.2, 5.2])\n",
        "b.dtype"
      ],
      "metadata": {
        "colab": {
          "base_uri": "https://localhost:8080/"
        },
        "id": "XhbUtdnBqJOG",
        "outputId": "ec2c02b6-a224-447f-c8a0-9284ace0d307"
      },
      "execution_count": 13,
      "outputs": [
        {
          "output_type": "execute_result",
          "data": {
            "text/plain": [
              "dtype('float64')"
            ]
          },
          "metadata": {},
          "execution_count": 13
        }
      ]
    },
    {
      "cell_type": "code",
      "source": [
        "#cambiar un valor en el array\n",
        "c=np.array([20,1,2,3,4])\n",
        "c"
      ],
      "metadata": {
        "colab": {
          "base_uri": "https://localhost:8080/"
        },
        "id": "YwUvhS8SrL_H",
        "outputId": "3ace94c3-b7e4-4cfc-e0ab-dd128cccf032"
      },
      "execution_count": 14,
      "outputs": [
        {
          "output_type": "execute_result",
          "data": {
            "text/plain": [
              "array([20,  1,  2,  3,  4])"
            ]
          },
          "metadata": {},
          "execution_count": 14
        }
      ]
    },
    {
      "cell_type": "code",
      "source": [
        "#asignar valor 100 al primer elemento\n",
        "c[0]= 100\n",
        "c"
      ],
      "metadata": {
        "colab": {
          "base_uri": "https://localhost:8080/"
        },
        "id": "s-5eURiwrzj5",
        "outputId": "95138b5d-4a04-479e-c738-e054d8f30ad4"
      },
      "execution_count": 17,
      "outputs": [
        {
          "output_type": "execute_result",
          "data": {
            "text/plain": [
              "array([100,   1,   2,   3,   4])"
            ]
          },
          "metadata": {},
          "execution_count": 17
        }
      ]
    },
    {
      "cell_type": "code",
      "source": [
        "#cambiar el 5to elemento a 0\n",
        "c[4]=0\n",
        "c"
      ],
      "metadata": {
        "colab": {
          "base_uri": "https://localhost:8080/"
        },
        "id": "kVGuWJdOaDvD",
        "outputId": "cd692050-5ab4-44d2-9773-58c88f2f647e"
      },
      "execution_count": 19,
      "outputs": [
        {
          "output_type": "execute_result",
          "data": {
            "text/plain": [
              "array([100,   1,   2,   3,   0])"
            ]
          },
          "metadata": {},
          "execution_count": 19
        }
      ]
    },
    {
      "cell_type": "code",
      "source": [
        "#asignar el valor de 20 al segundo elemento en el siguiente array\n",
        "a = np.array([10, 2, 30, 40,50])\n",
        "a[1] = 20\n",
        "a"
      ],
      "metadata": {
        "colab": {
          "base_uri": "https://localhost:8080/"
        },
        "id": "UMxPmtVJaqmh",
        "outputId": "b86d687e-2974-4598-d3f2-aef3745e59c8"
      },
      "execution_count": 20,
      "outputs": [
        {
          "output_type": "execute_result",
          "data": {
            "text/plain": [
              "array([10, 20, 30, 40, 50])"
            ]
          },
          "metadata": {},
          "execution_count": 20
        }
      ]
    },
    {
      "cell_type": "markdown",
      "source": [
        "**Slicing**\n",
        "Como en las listas, podemos tomar parte de un array de acuerdo al index y formar uno nuevo. [inicio:fin]"
      ],
      "metadata": {
        "id": "5vH9Ps5NbKx6"
      }
    },
    {
      "cell_type": "code",
      "source": [
        "#tomar parte de un array\n",
        "d = c[1:4]\n",
        "d"
      ],
      "metadata": {
        "colab": {
          "base_uri": "https://localhost:8080/"
        },
        "id": "hmK2gxV7bOKJ",
        "outputId": "f60ffb20-425b-4316-d242-e8b2edb6ebe3"
      },
      "execution_count": 21,
      "outputs": [
        {
          "output_type": "execute_result",
          "data": {
            "text/plain": [
              "array([1, 2, 3])"
            ]
          },
          "metadata": {},
          "execution_count": 21
        }
      ]
    },
    {
      "cell_type": "code",
      "source": [
        "#cambiar el cuarto y quinto elemento de C por 300 y 400\n",
        "c[3:5] = 400,500\n",
        "c"
      ],
      "metadata": {
        "colab": {
          "base_uri": "https://localhost:8080/"
        },
        "id": "Y_QwZBzZdLoU",
        "outputId": "85595e94-1b65-4246-c945-55bdf05a1303"
      },
      "execution_count": 23,
      "outputs": [
        {
          "output_type": "execute_result",
          "data": {
            "text/plain": [
              "array([100,   1,   2, 400, 500])"
            ]
          },
          "metadata": {},
          "execution_count": 23
        }
      ]
    },
    {
      "cell_type": "code",
      "source": [
        "#tabien podemos definir steps/brincos de la siguiente manera [inicio,fin,step]\n",
        "arr = np.array([1,2,3,4,5,6,7])\n",
        "print(arr[1:5:2])"
      ],
      "metadata": {
        "colab": {
          "base_uri": "https://localhost:8080/"
        },
        "id": "LY0LVYr5dwkf",
        "outputId": "487c450d-ddd3-436c-a16a-a248a294deaa"
      },
      "execution_count": 24,
      "outputs": [
        {
          "output_type": "stream",
          "name": "stdout",
          "text": [
            "[2 4]\n"
          ]
        }
      ]
    },
    {
      "cell_type": "code",
      "source": [
        "#si no colocamos el incio lo considera como 0\n",
        "print(arr[:4])"
      ],
      "metadata": {
        "colab": {
          "base_uri": "https://localhost:8080/"
        },
        "id": "iffav8vIerv3",
        "outputId": "7eea120f-17ac-46b9-c157-8daf8d4c1eb2"
      },
      "execution_count": 26,
      "outputs": [
        {
          "output_type": "stream",
          "name": "stdout",
          "text": [
            "[1 2 3 4]\n"
          ]
        }
      ]
    },
    {
      "cell_type": "code",
      "source": [
        "#si no colocamos el fin considera del inicio indicado hasta el final del array\n",
        "print(arr[4:])"
      ],
      "metadata": {
        "colab": {
          "base_uri": "https://localhost:8080/"
        },
        "id": "PgxJJXqCfGe7",
        "outputId": "7ca251b5-0c53-4cc1-f4a8-4e1f0865ed9a"
      },
      "execution_count": 27,
      "outputs": [
        {
          "output_type": "stream",
          "name": "stdout",
          "text": [
            "[5 6 7]\n"
          ]
        }
      ]
    },
    {
      "cell_type": "code",
      "source": [
        "#si no colocamos el numero de step considera 1\n",
        "print(arr[1:5:])"
      ],
      "metadata": {
        "colab": {
          "base_uri": "https://localhost:8080/"
        },
        "id": "qmcrtbidfjR8",
        "outputId": "e807ecd3-2b38-438a-cb05-a23519a88e4f"
      },
      "execution_count": 28,
      "outputs": [
        {
          "output_type": "stream",
          "name": "stdout",
          "text": [
            "[2 3 4 5]\n"
          ]
        }
      ]
    },
    {
      "cell_type": "code",
      "source": [
        "#imprime los numeros pares del siguiente arreglo\n",
        "arr = np.array([1,2,3,4,5,6,7,8])\n",
        "print(arr[1:8:2])\n"
      ],
      "metadata": {
        "colab": {
          "base_uri": "https://localhost:8080/"
        },
        "id": "soTTXNqyf8Hu",
        "outputId": "74039bd8-9f98-4d7b-e6fb-8d79cebf7917"
      },
      "execution_count": 31,
      "outputs": [
        {
          "output_type": "stream",
          "name": "stdout",
          "text": [
            "[2 4 6 8]\n"
          ]
        }
      ]
    },
    {
      "cell_type": "code",
      "source": [
        "#podemos utilizar una lista para seleccionar mas de un index especifico, considera la siguiente lista\n",
        "select = [0,2,3,4]\n",
        "select"
      ],
      "metadata": {
        "colab": {
          "base_uri": "https://localhost:8080/"
        },
        "id": "WKFxF7sPiLfK",
        "outputId": "6064cef4-d157-4634-c6cc-33b0575c8fa4"
      },
      "execution_count": 32,
      "outputs": [
        {
          "output_type": "execute_result",
          "data": {
            "text/plain": [
              "[0, 2, 3, 4]"
            ]
          },
          "metadata": {},
          "execution_count": 32
        }
      ]
    },
    {
      "cell_type": "code",
      "source": [
        "d = c[select]\n",
        "d"
      ],
      "metadata": {
        "colab": {
          "base_uri": "https://localhost:8080/"
        },
        "id": "4d7O70iDj9x-",
        "outputId": "ebf8bd91-8a85-45af-a500-22b8eecd803b"
      },
      "execution_count": 33,
      "outputs": [
        {
          "output_type": "execute_result",
          "data": {
            "text/plain": [
              "array([100,   2, 400, 500])"
            ]
          },
          "metadata": {},
          "execution_count": 33
        }
      ]
    },
    {
      "cell_type": "code",
      "source": [
        "#podemos asignar un valor a los eslementos especificos de select\n",
        "c[select]=100000\n",
        "c"
      ],
      "metadata": {
        "colab": {
          "base_uri": "https://localhost:8080/"
        },
        "id": "fIkDsGiikVfZ",
        "outputId": "6ac529ca-5f8f-4919-c899-917f575dc485"
      },
      "execution_count": 34,
      "outputs": [
        {
          "output_type": "execute_result",
          "data": {
            "text/plain": [
              "array([100000,      1, 100000, 100000, 100000])"
            ]
          },
          "metadata": {},
          "execution_count": 34
        }
      ]
    },
    {
      "cell_type": "code",
      "source": [],
      "metadata": {
        "id": "FdSsmV-XlR2J"
      },
      "execution_count": null,
      "outputs": []
    },
    {
      "cell_type": "markdown",
      "source": [
        "**Otros atributos**"
      ],
      "metadata": {
        "id": "z-FmpjCHlb65"
      }
    },
    {
      "cell_type": "code",
      "source": [
        "#considera el siguiente array a:\n",
        "a = np.array([0,1,2,3,4])\n",
        "a"
      ],
      "metadata": {
        "colab": {
          "base_uri": "https://localhost:8080/"
        },
        "id": "pTGvWhbplh_L",
        "outputId": "58ddb454-7469-46d0-d497-2e45710ffcdc"
      },
      "execution_count": 35,
      "outputs": [
        {
          "output_type": "execute_result",
          "data": {
            "text/plain": [
              "array([0, 1, 2, 3, 4])"
            ]
          },
          "metadata": {},
          "execution_count": 35
        }
      ]
    },
    {
      "cell_type": "code",
      "source": [
        "#El atributo size es el numero de elementos del array\n",
        "a.size\n"
      ],
      "metadata": {
        "colab": {
          "base_uri": "https://localhost:8080/"
        },
        "id": "E09PqAYcmbiA",
        "outputId": "43366548-f110-4855-e904-a92d15720000"
      },
      "execution_count": 36,
      "outputs": [
        {
          "output_type": "execute_result",
          "data": {
            "text/plain": [
              "5"
            ]
          },
          "metadata": {},
          "execution_count": 36
        }
      ]
    },
    {
      "cell_type": "code",
      "source": [],
      "metadata": {
        "id": "eMKOdy69m5jY"
      },
      "execution_count": null,
      "outputs": []
    }
  ]
}