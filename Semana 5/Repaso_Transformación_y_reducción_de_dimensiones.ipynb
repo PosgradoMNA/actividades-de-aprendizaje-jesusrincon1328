{
  "nbformat": 4,
  "nbformat_minor": 0,
  "metadata": {
    "colab": {
      "provenance": [],
      "collapsed_sections": [],
      "authorship_tag": "ABX9TyPRSrjTPBr8w6bbpjneruvo",
      "include_colab_link": true
    },
    "kernelspec": {
      "name": "python3",
      "display_name": "Python 3"
    },
    "language_info": {
      "name": "python"
    }
  },
  "cells": [
    {
      "cell_type": "markdown",
      "metadata": {
        "id": "view-in-github",
        "colab_type": "text"
      },
      "source": [
        "<a href=\"https://colab.research.google.com/github/PosgradoMNA/actividades-de-aprendizaje-jesusrincon1328/blob/main/Semana%205/Repaso_Transformaci%C3%B3n_y_reducci%C3%B3n_de_dimensiones.ipynb\" target=\"_parent\"><img src=\"https://colab.research.google.com/assets/colab-badge.svg\" alt=\"Open In Colab\"/></a>"
      ]
    },
    {
      "cell_type": "markdown",
      "source": [
        "\n",
        "# Ejercicio 1, Descomposición y composición\n",
        "***Descomposición***\n",
        "\n",
        "Encuentra los eigenvalores y eigenvectores de las siguientes matrices\n",
        "\n",
        "$A = \\begin{pmatrix} 3,0,2 \\\\ 3,0,-2 \\\\ 0,1,1 \\end{pmatrix}$\n",
        "$A2 = \\begin{pmatrix} 1,3,8 \\\\ 2,0,0 \\\\ 0,0,1 \\end{pmatrix}$\n",
        "$A3 = \\begin{pmatrix} 5,4,0 \\\\ 1,0,1 \\\\ 10,7,1 \\end{pmatrix}$\n",
        "\n",
        "y reconstruye la matriz original a traves de las matrices \n",
        "$WDW^{-1}$ (OJO. Esto es lo mismo de la ecuación del paso 2 solo le cambiamos la variable a la matriz diagonal)\n"
      ],
      "metadata": {
        "id": "o9N4vQnhWrKg"
      }
    },
    {
      "cell_type": "code",
      "execution_count": 1,
      "metadata": {
        "colab": {
          "base_uri": "https://localhost:8080/"
        },
        "id": "0CSpOIoXIL5E",
        "outputId": "1879d22d-338d-4d98-e681-e454f458de64"
      },
      "outputs": [
        {
          "output_type": "stream",
          "name": "stdout",
          "text": [
            "-------Matriz original-------\n",
            "[[1 2 3]\n",
            " [4 5 6]\n",
            " [7 8 9]]\n",
            "-----------------------------\n",
            "[ 1.61168440e+01 -1.11684397e+00 -1.30367773e-15]\n",
            "[[-0.23197069 -0.78583024  0.40824829]\n",
            " [-0.52532209 -0.08675134 -0.81649658]\n",
            " [-0.8186735   0.61232756  0.40824829]]\n",
            "-------Matriz reconstruida-------\n",
            "[[1. 2. 3.]\n",
            " [4. 5. 6.]\n",
            " [7. 8. 9.]]\n",
            "-----------------------------\n"
          ]
        }
      ],
      "source": [
        "###-----------------EJEMPLO DE EIGENVALORES\n",
        "import numpy as np\n",
        "from numpy import array\n",
        "from numpy.linalg import eig\n",
        "# define la matriz\n",
        "A = array([[1, 2, 3], [4, 5, 6], [7, 8, 9]])\n",
        "print(\"-------Matriz original-------\")\n",
        "print(A)\n",
        "print(\"-----------------------------\")\n",
        "# calcula la eigendescomposición\n",
        "values, vectors = eig(A)\n",
        "print(values) #D\n",
        "print(vectors) #W\n",
        "\n",
        "#Ejemplo de reconstrucción\n",
        "\n",
        "\n",
        "values, vectors = np.linalg.eig(A)\n",
        "\n",
        "W = vectors\n",
        "Winv = np.linalg.inv(W)\n",
        "D = np.diag(values)\n",
        "#la matriz B tiene que dar igual a A\n",
        "#reconstruye la matriz \n",
        "print(\"-------Matriz reconstruida-------\")\n",
        "# Realiza la reconstruccion de B=W*D*Winv, te da lo mismo de A?\n",
        "#ojo, estas multiplicando matrices, no escalares ;)\n",
        "#TU CODIGO AQUI-------------------------------------\n",
        "B= np.matmul(np.matmul(W,D), Winv) \n",
        "print(B)\n",
        "print(\"-----------------------------\")"
      ]
    },
    {
      "cell_type": "code",
      "source": [
        "#Matriz 1\n",
        "\n",
        "print(\"-------Matriz original-------\")\n",
        "A = array([[3, 0, 2], [3, 0, -2], [0, 1, 1]])\n",
        "print(A)\n",
        "print(\"-----------------------------\")\n",
        "\n",
        "values, vectors = eig(A)\n",
        "print(values) #D\n",
        "print(vectors) #W\n",
        "\n",
        "values, vectors = np.linalg.eig(A)\n",
        "\n",
        "W = vectors\n",
        "Winv = np.linalg.inv(W)\n",
        "D = np.diag(values)\n",
        "print(\"-------Matriz reconstruida-------\")\n",
        "B= np.matmul(np.matmul(W,D), Winv) \n",
        "\n",
        "print(B)\n",
        "print(\"-----------------------------\")"
      ],
      "metadata": {
        "colab": {
          "base_uri": "https://localhost:8080/"
        },
        "id": "O2vZluIVIO4a",
        "outputId": "beb86fbd-c768-4da5-af5e-f997c0c3b61f"
      },
      "execution_count": 13,
      "outputs": [
        {
          "output_type": "stream",
          "name": "stdout",
          "text": [
            "-------Matriz original-------\n",
            "[[ 3  0  2]\n",
            " [ 3  0 -2]\n",
            " [ 0  1  1]]\n",
            "-----------------------------\n",
            "[3.54451153+0.j         0.22774424+1.82582815j 0.22774424-1.82582815j]\n",
            "[[-0.80217543+0.j         -0.04746658+0.2575443j  -0.04746658-0.2575443j ]\n",
            " [-0.55571339+0.j          0.86167879+0.j          0.86167879-0.j        ]\n",
            " [-0.21839689+0.j         -0.16932106-0.40032224j -0.16932106+0.40032224j]]\n",
            "-------Matriz reconstruida-------\n",
            "[[ 3.00000000e+00+1.12272023e-16j  3.36536354e-16-9.67833078e-17j\n",
            "   2.00000000e+00-3.95053829e-17j]\n",
            " [ 3.00000000e+00-1.66253281e-16j  9.99200722e-16+1.12958209e-16j\n",
            "  -2.00000000e+00+2.77350775e-17j]\n",
            " [ 1.11022302e-16+1.03283117e-18j  1.00000000e+00-7.61630485e-17j\n",
            "   1.00000000e+00+1.02438275e-16j]]\n",
            "-----------------------------\n"
          ]
        }
      ]
    },
    {
      "cell_type": "code",
      "source": [
        "#Matriz 2\n",
        "\n",
        "print(\"-------Matriz original-------\")\n",
        "A2 = array([[1, 3, 8], [2, 0, 0], [0, 0, 1]])\n",
        "print(A)\n",
        "print(\"-----------------------------\")\n",
        "\n",
        "values, vectors = eig(A2)\n",
        "print(values) #D\n",
        "print(vectors) #W\n",
        "\n",
        "values, vectors = np.linalg.eig(A2)\n",
        "\n",
        "W = vectors\n",
        "Winv = np.linalg.inv(W)\n",
        "D = np.diag(values)\n",
        "print(\"-------Matriz reconstruida-------\")\n",
        "B2= np.matmul(np.matmul(W,D), Winv) \n",
        "\n",
        "print(B2)\n",
        "print(\"-----------------------------\")\n",
        "\n"
      ],
      "metadata": {
        "colab": {
          "base_uri": "https://localhost:8080/"
        },
        "id": "pxZ6I_5OWe7f",
        "outputId": "b4c145b0-1157-4f99-e23d-754283d69cae"
      },
      "execution_count": 14,
      "outputs": [
        {
          "output_type": "stream",
          "name": "stdout",
          "text": [
            "-------Matriz original-------\n",
            "[[ 3  0  2]\n",
            " [ 3  0 -2]\n",
            " [ 0  1  1]]\n",
            "-----------------------------\n",
            "[ 3. -2.  1.]\n",
            "[[ 0.83205029 -0.70710678 -0.42399915]\n",
            " [ 0.5547002   0.70710678 -0.8479983 ]\n",
            " [ 0.          0.          0.31799936]]\n",
            "-------Matriz reconstruida-------\n",
            "[[1.00000000e+00 3.00000000e+00 8.00000000e+00]\n",
            " [2.00000000e+00 7.41483138e-17 7.08397389e-16]\n",
            " [0.00000000e+00 0.00000000e+00 1.00000000e+00]]\n",
            "-----------------------------\n"
          ]
        }
      ]
    },
    {
      "cell_type": "code",
      "source": [
        "#Matriz 3\n",
        "\n",
        "print(\"-------Matriz original-------\")\n",
        "A3 = array([[5, 4, 0], [1, 0, 1], [10, 7, 1]])\n",
        "print(A3)\n",
        "print(\"-----------------------------\")\n",
        "\n",
        "values, vectors = eig(A3)\n",
        "print(values) #D\n",
        "print(vectors) #W\n",
        "\n",
        "values, vectors = np.linalg.eig(A3)\n",
        "\n",
        "W = vectors\n",
        "Winv = np.linalg.inv(W)\n",
        "D = np.diag(values)\n",
        "print(\"-------Matriz reconstruida-------\")\n",
        "B3= np.matmul(np.matmul(W,D), Winv) \n",
        "\n",
        "print(B3)\n",
        "print(\"-----------------------------\")"
      ],
      "metadata": {
        "colab": {
          "base_uri": "https://localhost:8080/"
        },
        "id": "25ElcBKTXwG4",
        "outputId": "e761ab2a-658f-4bf3-8df7-847987fb9776"
      },
      "execution_count": 17,
      "outputs": [
        {
          "output_type": "stream",
          "name": "stdout",
          "text": [
            "-------Matriz original-------\n",
            "[[ 5  4  0]\n",
            " [ 1  0  1]\n",
            " [10  7  1]]\n",
            "-----------------------------\n",
            "[ 6.89167094 -0.214175   -0.67749594]\n",
            "[[ 0.3975395   0.55738222  0.57580768]\n",
            " [ 0.18800348 -0.72657211 -0.81728644]\n",
            " [ 0.89811861 -0.40176864 -0.02209943]]\n",
            "-------Matriz reconstruida-------\n",
            "[[ 5.00000000e+00  4.00000000e+00 -1.53912019e-15]\n",
            " [ 1.00000000e+00 -1.30389602e-15  1.00000000e+00]\n",
            " [ 1.00000000e+01  7.00000000e+00  1.00000000e+00]]\n",
            "-----------------------------\n"
          ]
        }
      ]
    },
    {
      "cell_type": "markdown",
      "source": [
        "**¿Qué significa  reducir dimensiones?**\n",
        "\n",
        "Esto será cuando proyectemos a ese espacio de los componentes principales pero no los seleccionemos todos, solo los más importantes y viajemos de regreso a nuestras unidades a través de una proyección.\n",
        "\n",
        "Es decir:\n",
        "Unidades-PC\n",
        "PC-Unidades\n",
        "\n",
        "Veamoslo gráficamente, ¿qué pasa con esa selección de los PCs y su efecto?.\n",
        "\n",
        "\n",
        "Para ello usaremos Singular Value Descomposition (SVD).\n",
        "\n",
        "\n",
        "\n",
        "# Singular Value Descomposition(SVD)\n",
        "\n",
        "Es otra descomposición que tambien nos ayudara a reducir dimensiones.\n",
        "\n",
        "<img src=\"https://miro.medium.com/max/720/1*6wkgGgBy2NLVmRVOw8K86w.png\" width=\"300\">\n",
        "\n"
      ],
      "metadata": {
        "id": "6EWGUwMlYuPt"
      }
    },
    {
      "cell_type": "code",
      "source": [],
      "metadata": {
        "id": "obD6mIfmYa8s"
      },
      "execution_count": null,
      "outputs": []
    }
  ]
}